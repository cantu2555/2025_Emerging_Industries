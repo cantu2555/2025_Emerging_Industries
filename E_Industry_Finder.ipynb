{
 "cells": [
  {
   "cell_type": "markdown",
   "metadata": {},
   "source": [
    "---\n",
    "title: \"Emerging Industries Dashboard Report\"\n",
    "author: \"Thomas Cantu\"\n",
    "format:\n",
    "  html:\n",
    "    toc: true\n",
    "    theme: flatly\n",
    "    code-fold: true\n",
    "  pdf:\n",
    "    documentclass: article\n",
    "---"
   ]
  },
  {
   "cell_type": "markdown",
   "metadata": {},
   "source": [
    "# Finding El Paso A New Emerging Market "
   ]
  },
  {
   "cell_type": "markdown",
   "metadata": {},
   "source": [
    "# Fastest Growing Markets in the US\n",
    "\n",
    "This project aims to identify high-growth industries and emerging occupations by analyzing data provided by the Bureau of Labor Statistics."
   ]
  },
  {
   "cell_type": "markdown",
   "metadata": {},
   "source": [
    "\n",
    "## Ocupation Data\n",
    "\n",
    "\n",
    "\n"
   ]
  },
  {
   "cell_type": "markdown",
   "metadata": {},
   "source": [
    "### Occupational Projections, 2023—2033"
   ]
  },
  {
   "cell_type": "code",
   "execution_count": 1,
   "metadata": {},
   "outputs": [],
   "source": [
    "#| output: false\n",
    "#| echo: false\n",
    "\n",
    "import pandas as pd\n",
    "import numpy as np  \n",
    "\n",
    "# Path to file \n",
    "file_path = '/Users/cantu/Documents/Emerging _Industries/occupation.xlsx'\n",
    "\n",
    "# Load table 1.2\n",
    "df = pd.read_excel(file_path, sheet_name='Table 1.2', header=1)\n",
    "\n",
    "# Drop non essential rows \n",
    "df = df.iloc[1:113].reset_index(drop=True)\n",
    "\n",
    "#df"
   ]
  },
  {
   "cell_type": "code",
   "execution_count": 2,
   "metadata": {},
   "outputs": [
    {
     "data": {
      "text/html": [
       "<div>\n",
       "<style scoped>\n",
       "    .dataframe tbody tr th:only-of-type {\n",
       "        vertical-align: middle;\n",
       "    }\n",
       "\n",
       "    .dataframe tbody tr th {\n",
       "        vertical-align: top;\n",
       "    }\n",
       "\n",
       "    .dataframe thead th {\n",
       "        text-align: right;\n",
       "    }\n",
       "</style>\n",
       "<table border=\"1\" class=\"dataframe\">\n",
       "  <thead>\n",
       "    <tr style=\"text-align: right;\">\n",
       "      <th></th>\n",
       "      <th>2023 National Employment Matrix title</th>\n",
       "      <th>2023 National Employment Matrix code</th>\n",
       "      <th>Occupation type</th>\n",
       "      <th>Employment, 2023</th>\n",
       "      <th>Employment, 2033</th>\n",
       "      <th>Employment distribution, percent, 2023</th>\n",
       "      <th>Employment distribution, percent, 2033</th>\n",
       "      <th>Employment change, numeric, 2023-33</th>\n",
       "      <th>Employment change, percent, 2023-33</th>\n",
       "      <th>Percent self employed, 2023</th>\n",
       "      <th>Occupational openings, 2023-33 annual average</th>\n",
       "      <th>Median annual wage, dollars, 2024[1]</th>\n",
       "      <th>Typical education needed for entry</th>\n",
       "      <th>Work experience in a related occupation</th>\n",
       "      <th>Typical on-the-job training needed to attain competency in the occupation</th>\n",
       "      <th>Related Occupational Outlook Handbook (OOH) content</th>\n",
       "    </tr>\n",
       "  </thead>\n",
       "  <tbody>\n",
       "    <tr>\n",
       "      <th>0</th>\n",
       "      <td>Management occupations</td>\n",
       "      <td>11-0000</td>\n",
       "      <td>Summary</td>\n",
       "      <td>13181.3</td>\n",
       "      <td>14140.9</td>\n",
       "      <td>7.9</td>\n",
       "      <td>8.1</td>\n",
       "      <td>959.6</td>\n",
       "      <td>7.3</td>\n",
       "      <td>15.1</td>\n",
       "      <td>1160.0</td>\n",
       "      <td>122090</td>\n",
       "      <td>—</td>\n",
       "      <td>—</td>\n",
       "      <td>—</td>\n",
       "      <td>—</td>\n",
       "    </tr>\n",
       "    <tr>\n",
       "      <th>1</th>\n",
       "      <td>Top executives</td>\n",
       "      <td>11-1000</td>\n",
       "      <td>Summary</td>\n",
       "      <td>3977.7</td>\n",
       "      <td>4206.7</td>\n",
       "      <td>2.4</td>\n",
       "      <td>2.4</td>\n",
       "      <td>229.0</td>\n",
       "      <td>5.8</td>\n",
       "      <td>2.7</td>\n",
       "      <td>346.5</td>\n",
       "      <td>104990</td>\n",
       "      <td>—</td>\n",
       "      <td>—</td>\n",
       "      <td>—</td>\n",
       "      <td>—</td>\n",
       "    </tr>\n",
       "    <tr>\n",
       "      <th>2</th>\n",
       "      <td>Chief executives</td>\n",
       "      <td>11-1011</td>\n",
       "      <td>Line item</td>\n",
       "      <td>313.9</td>\n",
       "      <td>331.1</td>\n",
       "      <td>0.2</td>\n",
       "      <td>0.2</td>\n",
       "      <td>17.2</td>\n",
       "      <td>5.5</td>\n",
       "      <td>28.1</td>\n",
       "      <td>23.0</td>\n",
       "      <td>206420</td>\n",
       "      <td>Bachelor's degree</td>\n",
       "      <td>5 years or more</td>\n",
       "      <td>NaN</td>\n",
       "      <td>OOH Content</td>\n",
       "    </tr>\n",
       "    <tr>\n",
       "      <th>3</th>\n",
       "      <td>General and operations managers</td>\n",
       "      <td>11-1021</td>\n",
       "      <td>Line item</td>\n",
       "      <td>3630.1</td>\n",
       "      <td>3840.5</td>\n",
       "      <td>2.2</td>\n",
       "      <td>2.2</td>\n",
       "      <td>210.4</td>\n",
       "      <td>5.8</td>\n",
       "      <td>0.5</td>\n",
       "      <td>320.8</td>\n",
       "      <td>102950</td>\n",
       "      <td>Bachelor's degree</td>\n",
       "      <td>5 years or more</td>\n",
       "      <td>NaN</td>\n",
       "      <td>OOH Content</td>\n",
       "    </tr>\n",
       "    <tr>\n",
       "      <th>4</th>\n",
       "      <td>Legislators</td>\n",
       "      <td>11-1031</td>\n",
       "      <td>Line item</td>\n",
       "      <td>33.7</td>\n",
       "      <td>35.0</td>\n",
       "      <td>0.0</td>\n",
       "      <td>0.0</td>\n",
       "      <td>1.4</td>\n",
       "      <td>4.1</td>\n",
       "      <td>—</td>\n",
       "      <td>2.7</td>\n",
       "      <td>44810</td>\n",
       "      <td>Bachelor's degree</td>\n",
       "      <td>Less than 5 years</td>\n",
       "      <td>NaN</td>\n",
       "      <td>—</td>\n",
       "    </tr>\n",
       "  </tbody>\n",
       "</table>\n",
       "</div>"
      ],
      "text/plain": [
       "   2023 National Employment Matrix title 2023 National Employment Matrix code  \\\n",
       "0                 Management occupations                              11-0000   \n",
       "1                         Top executives                              11-1000   \n",
       "2                       Chief executives                              11-1011   \n",
       "3        General and operations managers                              11-1021   \n",
       "4                            Legislators                              11-1031   \n",
       "\n",
       "  Occupation type  Employment, 2023  Employment, 2033  \\\n",
       "0         Summary           13181.3           14140.9   \n",
       "1         Summary            3977.7            4206.7   \n",
       "2       Line item             313.9             331.1   \n",
       "3       Line item            3630.1            3840.5   \n",
       "4       Line item              33.7              35.0   \n",
       "\n",
       "   Employment distribution, percent, 2023  \\\n",
       "0                                     7.9   \n",
       "1                                     2.4   \n",
       "2                                     0.2   \n",
       "3                                     2.2   \n",
       "4                                     0.0   \n",
       "\n",
       "   Employment distribution, percent, 2033  \\\n",
       "0                                     8.1   \n",
       "1                                     2.4   \n",
       "2                                     0.2   \n",
       "3                                     2.2   \n",
       "4                                     0.0   \n",
       "\n",
       "   Employment change, numeric, 2023-33  Employment change, percent, 2023-33  \\\n",
       "0                                959.6                                  7.3   \n",
       "1                                229.0                                  5.8   \n",
       "2                                 17.2                                  5.5   \n",
       "3                                210.4                                  5.8   \n",
       "4                                  1.4                                  4.1   \n",
       "\n",
       "  Percent self employed, 2023  Occupational openings, 2023-33 annual average  \\\n",
       "0                        15.1                                         1160.0   \n",
       "1                         2.7                                          346.5   \n",
       "2                        28.1                                           23.0   \n",
       "3                         0.5                                          320.8   \n",
       "4                           —                                            2.7   \n",
       "\n",
       "  Median annual wage, dollars, 2024[1] Typical education needed for entry  \\\n",
       "0                               122090                                  —   \n",
       "1                               104990                                  —   \n",
       "2                               206420                  Bachelor's degree   \n",
       "3                               102950                  Bachelor's degree   \n",
       "4                                44810                  Bachelor's degree   \n",
       "\n",
       "  Work experience in a related occupation  \\\n",
       "0                                       —   \n",
       "1                                       —   \n",
       "2                         5 years or more   \n",
       "3                         5 years or more   \n",
       "4                       Less than 5 years   \n",
       "\n",
       "  Typical on-the-job training needed to attain competency in the occupation  \\\n",
       "0                                                  —                          \n",
       "1                                                  —                          \n",
       "2                                                NaN                          \n",
       "3                                                NaN                          \n",
       "4                                                NaN                          \n",
       "\n",
       "  Related Occupational Outlook Handbook (OOH) content  \n",
       "0                                                  —   \n",
       "1                                                  —   \n",
       "2                                        OOH Content   \n",
       "3                                        OOH Content   \n",
       "4                                                  —   "
      ]
     },
     "execution_count": 2,
     "metadata": {},
     "output_type": "execute_result"
    }
   ],
   "source": [
    "#| output: false\n",
    "#| echo: false\n",
    "df.head(5)"
   ]
  },
  {
   "cell_type": "markdown",
   "metadata": {},
   "source": [
    "###  Fastest growing occupations, 2023 and projected 2033"
   ]
  },
  {
   "cell_type": "code",
   "execution_count": 3,
   "metadata": {},
   "outputs": [],
   "source": [
    "#| output: false\n",
    "#| echo: false\n",
    "\n",
    "# Load table 1.3\n",
    "df2 = pd.read_excel(file_path, sheet_name='Table 1.3', header=1)\n",
    "\n",
    "# Drop non-essential rows \n",
    "df2 = df2.iloc[1:31].reset_index(drop=True)\n",
    "\n",
    "#df2"
   ]
  },
  {
   "cell_type": "code",
   "execution_count": 4,
   "metadata": {},
   "outputs": [
    {
     "data": {
      "text/html": [
       "<div>\n",
       "<style scoped>\n",
       "    .dataframe tbody tr th:only-of-type {\n",
       "        vertical-align: middle;\n",
       "    }\n",
       "\n",
       "    .dataframe tbody tr th {\n",
       "        vertical-align: top;\n",
       "    }\n",
       "\n",
       "    .dataframe thead th {\n",
       "        text-align: right;\n",
       "    }\n",
       "</style>\n",
       "<table border=\"1\" class=\"dataframe\">\n",
       "  <thead>\n",
       "    <tr style=\"text-align: right;\">\n",
       "      <th></th>\n",
       "      <th>2023 National Employment Matrix title</th>\n",
       "      <th>2023 National Employment Matrix code</th>\n",
       "      <th>Employment, 2023</th>\n",
       "      <th>Employment, 2033</th>\n",
       "      <th>Employment change, numeric, 2023-33</th>\n",
       "      <th>Employment change, percent, 2023-33</th>\n",
       "      <th>Median annual wage, dollars, 2024[1]</th>\n",
       "    </tr>\n",
       "  </thead>\n",
       "  <tbody>\n",
       "    <tr>\n",
       "      <th>0</th>\n",
       "      <td>Wind turbine service technicians</td>\n",
       "      <td>49-9081</td>\n",
       "      <td>11.4</td>\n",
       "      <td>18.2</td>\n",
       "      <td>6.8</td>\n",
       "      <td>60.1</td>\n",
       "      <td>62580.0</td>\n",
       "    </tr>\n",
       "    <tr>\n",
       "      <th>1</th>\n",
       "      <td>Solar photovoltaic installers</td>\n",
       "      <td>47-2231</td>\n",
       "      <td>25.0</td>\n",
       "      <td>37.0</td>\n",
       "      <td>12.0</td>\n",
       "      <td>48.0</td>\n",
       "      <td>51860.0</td>\n",
       "    </tr>\n",
       "    <tr>\n",
       "      <th>2</th>\n",
       "      <td>Nurse practitioners</td>\n",
       "      <td>29-1171</td>\n",
       "      <td>292.5</td>\n",
       "      <td>427.9</td>\n",
       "      <td>135.5</td>\n",
       "      <td>46.3</td>\n",
       "      <td>129210.0</td>\n",
       "    </tr>\n",
       "    <tr>\n",
       "      <th>3</th>\n",
       "      <td>Data scientists</td>\n",
       "      <td>15-2051</td>\n",
       "      <td>202.9</td>\n",
       "      <td>276.0</td>\n",
       "      <td>73.1</td>\n",
       "      <td>36.0</td>\n",
       "      <td>112590.0</td>\n",
       "    </tr>\n",
       "    <tr>\n",
       "      <th>4</th>\n",
       "      <td>Information security analysts</td>\n",
       "      <td>15-1212</td>\n",
       "      <td>180.7</td>\n",
       "      <td>239.8</td>\n",
       "      <td>59.1</td>\n",
       "      <td>32.7</td>\n",
       "      <td>124910.0</td>\n",
       "    </tr>\n",
       "  </tbody>\n",
       "</table>\n",
       "</div>"
      ],
      "text/plain": [
       "  2023 National Employment Matrix title 2023 National Employment Matrix code  \\\n",
       "0      Wind turbine service technicians                              49-9081   \n",
       "1         Solar photovoltaic installers                              47-2231   \n",
       "2                   Nurse practitioners                              29-1171   \n",
       "3                       Data scientists                              15-2051   \n",
       "4         Information security analysts                              15-1212   \n",
       "\n",
       "   Employment, 2023  Employment, 2033  Employment change, numeric, 2023-33  \\\n",
       "0              11.4              18.2                                  6.8   \n",
       "1              25.0              37.0                                 12.0   \n",
       "2             292.5             427.9                                135.5   \n",
       "3             202.9             276.0                                 73.1   \n",
       "4             180.7             239.8                                 59.1   \n",
       "\n",
       "   Employment change, percent, 2023-33  Median annual wage, dollars, 2024[1]  \n",
       "0                                 60.1                               62580.0  \n",
       "1                                 48.0                               51860.0  \n",
       "2                                 46.3                              129210.0  \n",
       "3                                 36.0                              112590.0  \n",
       "4                                 32.7                              124910.0  "
      ]
     },
     "execution_count": 4,
     "metadata": {},
     "output_type": "execute_result"
    }
   ],
   "source": [
    "#| output: false\n",
    "#| echo: false\n",
    "\n",
    "df2.head()"
   ]
  },
  {
   "cell_type": "code",
   "execution_count": 5,
   "metadata": {},
   "outputs": [
    {
     "data": {
      "text/plain": [
       "2023 National Employment Matrix title     object\n",
       "2023 National Employment Matrix code      object\n",
       "Employment, 2023                         float64\n",
       "Employment, 2033                         float64\n",
       "Employment change, numeric, 2023-33      float64\n",
       "Employment change, percent, 2023-33      float64\n",
       "Median annual wage, dollars, 2024[1]     float64\n",
       "dtype: object"
      ]
     },
     "execution_count": 5,
     "metadata": {},
     "output_type": "execute_result"
    }
   ],
   "source": [
    "#| output: false\n",
    "#| echo: false\n",
    "\n",
    "# Column types \n",
    "df2.dtypes"
   ]
  },
  {
   "cell_type": "markdown",
   "metadata": {},
   "source": [
    "###  Occupations with the most job growth, 2023 and projected 2033"
   ]
  },
  {
   "cell_type": "code",
   "execution_count": 6,
   "metadata": {},
   "outputs": [],
   "source": [
    "#| output: false\n",
    "#| echo: false\n",
    "\n",
    "# Load table 1.4\n",
    "df3 = pd.read_excel(file_path, sheet_name='Table 1.4', header=1)\n",
    "\n",
    "# Drop non-essential rows \n",
    "df3 = df3.iloc[1:31].reset_index(drop=True)\n",
    "\n",
    "#df3"
   ]
  },
  {
   "cell_type": "code",
   "execution_count": 7,
   "metadata": {},
   "outputs": [
    {
     "data": {
      "text/html": [
       "<div>\n",
       "<style scoped>\n",
       "    .dataframe tbody tr th:only-of-type {\n",
       "        vertical-align: middle;\n",
       "    }\n",
       "\n",
       "    .dataframe tbody tr th {\n",
       "        vertical-align: top;\n",
       "    }\n",
       "\n",
       "    .dataframe thead th {\n",
       "        text-align: right;\n",
       "    }\n",
       "</style>\n",
       "<table border=\"1\" class=\"dataframe\">\n",
       "  <thead>\n",
       "    <tr style=\"text-align: right;\">\n",
       "      <th></th>\n",
       "      <th>2023 National Employment Matrix title</th>\n",
       "      <th>2023 National Employment Matrix code</th>\n",
       "      <th>Employment, 2023</th>\n",
       "      <th>Employment, 2033</th>\n",
       "      <th>Employment change, numeric, 2023-33</th>\n",
       "      <th>Employment change, percent, 2023-33</th>\n",
       "      <th>Median annual wage, dollars, 2024[1]</th>\n",
       "    </tr>\n",
       "  </thead>\n",
       "  <tbody>\n",
       "    <tr>\n",
       "      <th>0</th>\n",
       "      <td>Home health and personal care aides</td>\n",
       "      <td>31-1120</td>\n",
       "      <td>3961.9</td>\n",
       "      <td>4782.4</td>\n",
       "      <td>820.5</td>\n",
       "      <td>20.7</td>\n",
       "      <td>34900.0</td>\n",
       "    </tr>\n",
       "    <tr>\n",
       "      <th>1</th>\n",
       "      <td>Software developers</td>\n",
       "      <td>15-1252</td>\n",
       "      <td>1692.1</td>\n",
       "      <td>1995.7</td>\n",
       "      <td>303.7</td>\n",
       "      <td>17.9</td>\n",
       "      <td>133080.0</td>\n",
       "    </tr>\n",
       "    <tr>\n",
       "      <th>2</th>\n",
       "      <td>Cooks, restaurant</td>\n",
       "      <td>35-2014</td>\n",
       "      <td>1434.2</td>\n",
       "      <td>1678.6</td>\n",
       "      <td>244.5</td>\n",
       "      <td>17.0</td>\n",
       "      <td>36830.0</td>\n",
       "    </tr>\n",
       "    <tr>\n",
       "      <th>3</th>\n",
       "      <td>Fast food and counter workers</td>\n",
       "      <td>35-3023</td>\n",
       "      <td>3734.1</td>\n",
       "      <td>3946.5</td>\n",
       "      <td>212.5</td>\n",
       "      <td>5.7</td>\n",
       "      <td>30480.0</td>\n",
       "    </tr>\n",
       "    <tr>\n",
       "      <th>4</th>\n",
       "      <td>General and operations managers</td>\n",
       "      <td>11-1021</td>\n",
       "      <td>3630.1</td>\n",
       "      <td>3840.5</td>\n",
       "      <td>210.4</td>\n",
       "      <td>5.8</td>\n",
       "      <td>102950.0</td>\n",
       "    </tr>\n",
       "  </tbody>\n",
       "</table>\n",
       "</div>"
      ],
      "text/plain": [
       "   2023 National Employment Matrix title 2023 National Employment Matrix code  \\\n",
       "0    Home health and personal care aides                              31-1120   \n",
       "1                    Software developers                              15-1252   \n",
       "2                      Cooks, restaurant                              35-2014   \n",
       "3          Fast food and counter workers                              35-3023   \n",
       "4        General and operations managers                              11-1021   \n",
       "\n",
       "   Employment, 2023  Employment, 2033  Employment change, numeric, 2023-33  \\\n",
       "0            3961.9            4782.4                                820.5   \n",
       "1            1692.1            1995.7                                303.7   \n",
       "2            1434.2            1678.6                                244.5   \n",
       "3            3734.1            3946.5                                212.5   \n",
       "4            3630.1            3840.5                                210.4   \n",
       "\n",
       "   Employment change, percent, 2023-33  Median annual wage, dollars, 2024[1]  \n",
       "0                                 20.7                               34900.0  \n",
       "1                                 17.9                              133080.0  \n",
       "2                                 17.0                               36830.0  \n",
       "3                                  5.7                               30480.0  \n",
       "4                                  5.8                              102950.0  "
      ]
     },
     "execution_count": 7,
     "metadata": {},
     "output_type": "execute_result"
    }
   ],
   "source": [
    "#| output: false\n",
    "#| echo: false\n",
    "\n",
    "df3.head()"
   ]
  },
  {
   "cell_type": "code",
   "execution_count": 8,
   "metadata": {},
   "outputs": [
    {
     "data": {
      "text/plain": [
       "2023 National Employment Matrix title     object\n",
       "2023 National Employment Matrix code      object\n",
       "Employment, 2023                         float64\n",
       "Employment, 2033                         float64\n",
       "Employment change, numeric, 2023-33      float64\n",
       "Employment change, percent, 2023-33      float64\n",
       "Median annual wage, dollars, 2024[1]     float64\n",
       "dtype: object"
      ]
     },
     "execution_count": 8,
     "metadata": {},
     "output_type": "execute_result"
    }
   ],
   "source": [
    "#| output: false\n",
    "#| echo: false\n",
    "\n",
    "# Column types \n",
    "df3.dtypes"
   ]
  },
  {
   "cell_type": "markdown",
   "metadata": {},
   "source": [
    "### Mapping Matrix \n",
    "\n",
    "Has occupation codes and industry codes for bridge mapping"
   ]
  },
  {
   "cell_type": "code",
   "execution_count": 9,
   "metadata": {},
   "outputs": [],
   "source": [
    "#| output: false\n",
    "#| echo: false\n",
    "\n",
    "# Load table 1.4\n",
    "dfmap = pd.read_excel(file_path, sheet_name='Table 1.12', header=1)\n",
    "\n",
    "#dfmap"
   ]
  },
  {
   "cell_type": "code",
   "execution_count": 10,
   "metadata": {},
   "outputs": [
    {
     "data": {
      "text/html": [
       "<div>\n",
       "<style scoped>\n",
       "    .dataframe tbody tr th:only-of-type {\n",
       "        vertical-align: middle;\n",
       "    }\n",
       "\n",
       "    .dataframe tbody tr th {\n",
       "        vertical-align: top;\n",
       "    }\n",
       "\n",
       "    .dataframe thead th {\n",
       "        text-align: right;\n",
       "    }\n",
       "</style>\n",
       "<table border=\"1\" class=\"dataframe\">\n",
       "  <thead>\n",
       "    <tr style=\"text-align: right;\">\n",
       "      <th></th>\n",
       "      <th>2023 National Employment Matrix occupation title</th>\n",
       "      <th>2023 National Employment Matrix occupation code</th>\n",
       "      <th>2023 National Employment Matrix industry title</th>\n",
       "      <th>2023 National Employment Matrix industry code</th>\n",
       "      <th>Factors affecting occupational utilization</th>\n",
       "    </tr>\n",
       "  </thead>\n",
       "  <tbody>\n",
       "    <tr>\n",
       "      <th>0</th>\n",
       "      <td>Advertising and promotions managers</td>\n",
       "      <td>11-2011</td>\n",
       "      <td>Total employment</td>\n",
       "      <td>TE1000</td>\n",
       "      <td>Demand change - share decreases as advertising...</td>\n",
       "    </tr>\n",
       "    <tr>\n",
       "      <th>1</th>\n",
       "      <td>Advertising and promotions managers</td>\n",
       "      <td>11-2011</td>\n",
       "      <td>Automobile dealers</td>\n",
       "      <td>441100</td>\n",
       "      <td>Productivity change - share decreases as conso...</td>\n",
       "    </tr>\n",
       "    <tr>\n",
       "      <th>2</th>\n",
       "      <td>Marketing managers</td>\n",
       "      <td>11-2021</td>\n",
       "      <td>Automobile dealers</td>\n",
       "      <td>441100</td>\n",
       "      <td>Productivity change - share decreases as conso...</td>\n",
       "    </tr>\n",
       "    <tr>\n",
       "      <th>3</th>\n",
       "      <td>Marketing managers</td>\n",
       "      <td>11-2021</td>\n",
       "      <td>Sound recording industries</td>\n",
       "      <td>512200</td>\n",
       "      <td>Demand change - share increases as an expected...</td>\n",
       "    </tr>\n",
       "    <tr>\n",
       "      <th>4</th>\n",
       "      <td>Sales managers</td>\n",
       "      <td>11-2022</td>\n",
       "      <td>Automobile dealers</td>\n",
       "      <td>441100</td>\n",
       "      <td>Demand change - share decreases as growth in o...</td>\n",
       "    </tr>\n",
       "  </tbody>\n",
       "</table>\n",
       "</div>"
      ],
      "text/plain": [
       "  2023 National Employment Matrix occupation title  \\\n",
       "0              Advertising and promotions managers   \n",
       "1              Advertising and promotions managers   \n",
       "2                               Marketing managers   \n",
       "3                               Marketing managers   \n",
       "4                                   Sales managers   \n",
       "\n",
       "  2023 National Employment Matrix occupation code  \\\n",
       "0                                         11-2011   \n",
       "1                                         11-2011   \n",
       "2                                         11-2021   \n",
       "3                                         11-2021   \n",
       "4                                         11-2022   \n",
       "\n",
       "  2023 National Employment Matrix industry title  \\\n",
       "0                               Total employment   \n",
       "1                             Automobile dealers   \n",
       "2                             Automobile dealers   \n",
       "3                     Sound recording industries   \n",
       "4                             Automobile dealers   \n",
       "\n",
       "  2023 National Employment Matrix industry code  \\\n",
       "0                                        TE1000   \n",
       "1                                        441100   \n",
       "2                                        441100   \n",
       "3                                        512200   \n",
       "4                                        441100   \n",
       "\n",
       "          Factors affecting occupational utilization  \n",
       "0  Demand change - share decreases as advertising...  \n",
       "1  Productivity change - share decreases as conso...  \n",
       "2  Productivity change - share decreases as conso...  \n",
       "3  Demand change - share increases as an expected...  \n",
       "4  Demand change - share decreases as growth in o...  "
      ]
     },
     "execution_count": 10,
     "metadata": {},
     "output_type": "execute_result"
    }
   ],
   "source": [
    "#| output: false\n",
    "#| echo: false\n",
    "\n",
    "dfmap.head()"
   ]
  },
  {
   "cell_type": "code",
   "execution_count": 11,
   "metadata": {},
   "outputs": [
    {
     "data": {
      "text/plain": [
       "2023 National Employment Matrix occupation title    object\n",
       "2023 National Employment Matrix occupation code     object\n",
       "2023 National Employment Matrix industry title      object\n",
       "2023 National Employment Matrix industry code       object\n",
       "Factors affecting occupational utilization          object\n",
       "dtype: object"
      ]
     },
     "execution_count": 11,
     "metadata": {},
     "output_type": "execute_result"
    }
   ],
   "source": [
    "#| output: false\n",
    "#| echo: false\n",
    "\n",
    "# Column types \n",
    "dfmap.dtypes"
   ]
  },
  {
   "cell_type": "markdown",
   "metadata": {},
   "source": [
    "## Industry Data "
   ]
  },
  {
   "cell_type": "markdown",
   "metadata": {},
   "source": [
    "###  Industries with the fastest growing wage and salary employment"
   ]
  },
  {
   "cell_type": "code",
   "execution_count": 12,
   "metadata": {},
   "outputs": [],
   "source": [
    "#| output: false\n",
    "#| echo: false\n",
    "\n",
    "# Path to file \n",
    "file_path2 = '/Users/cantu/Documents/Emerging _Industries/industry.xlsx'\n",
    "\n",
    "# Load table 2.3\n",
    "df4 = pd.read_excel(file_path2, sheet_name='Table 2.3', header=1)\n",
    "\n",
    "# Drop non-essential rows \n",
    "df4 = df4.iloc[1:11].reset_index(drop=True)\n",
    "\n",
    "#df4"
   ]
  },
  {
   "cell_type": "code",
   "execution_count": 13,
   "metadata": {},
   "outputs": [
    {
     "data": {
      "text/html": [
       "<div>\n",
       "<style scoped>\n",
       "    .dataframe tbody tr th:only-of-type {\n",
       "        vertical-align: middle;\n",
       "    }\n",
       "\n",
       "    .dataframe tbody tr th {\n",
       "        vertical-align: top;\n",
       "    }\n",
       "\n",
       "    .dataframe thead th {\n",
       "        text-align: right;\n",
       "    }\n",
       "</style>\n",
       "<table border=\"1\" class=\"dataframe\">\n",
       "  <thead>\n",
       "    <tr style=\"text-align: right;\">\n",
       "      <th></th>\n",
       "      <th>2023 National Employment Matrix title</th>\n",
       "      <th>2023 National Employment Matrix code</th>\n",
       "      <th>Employment, 2023</th>\n",
       "      <th>Employment, 2033</th>\n",
       "      <th>Employment change, numeric, 2023–33</th>\n",
       "      <th>Employment change, percent, 2023–33</th>\n",
       "    </tr>\n",
       "  </thead>\n",
       "  <tbody>\n",
       "    <tr>\n",
       "      <th>0</th>\n",
       "      <td>Solar electric power generation</td>\n",
       "      <td>221114</td>\n",
       "      <td>12.9</td>\n",
       "      <td>48.6</td>\n",
       "      <td>35.7</td>\n",
       "      <td>275.9</td>\n",
       "    </tr>\n",
       "    <tr>\n",
       "      <th>1</th>\n",
       "      <td>Wind electric power generation</td>\n",
       "      <td>221115</td>\n",
       "      <td>9.3</td>\n",
       "      <td>20.0</td>\n",
       "      <td>10.7</td>\n",
       "      <td>115.1</td>\n",
       "    </tr>\n",
       "    <tr>\n",
       "      <th>2</th>\n",
       "      <td>Other electric power generation</td>\n",
       "      <td>221118</td>\n",
       "      <td>4.0</td>\n",
       "      <td>5.8</td>\n",
       "      <td>1.8</td>\n",
       "      <td>46.5</td>\n",
       "    </tr>\n",
       "    <tr>\n",
       "      <th>3</th>\n",
       "      <td>Geothermal electric power generation</td>\n",
       "      <td>221116</td>\n",
       "      <td>1.3</td>\n",
       "      <td>1.8</td>\n",
       "      <td>0.5</td>\n",
       "      <td>42.1</td>\n",
       "    </tr>\n",
       "    <tr>\n",
       "      <th>4</th>\n",
       "      <td>Other electrical equipment and component man...</td>\n",
       "      <td>335900</td>\n",
       "      <td>164.8</td>\n",
       "      <td>227.0</td>\n",
       "      <td>62.2</td>\n",
       "      <td>37.7</td>\n",
       "    </tr>\n",
       "  </tbody>\n",
       "</table>\n",
       "</div>"
      ],
      "text/plain": [
       "               2023 National Employment Matrix title  \\\n",
       "0                    Solar electric power generation   \n",
       "1                     Wind electric power generation   \n",
       "2                    Other electric power generation   \n",
       "3               Geothermal electric power generation   \n",
       "4    Other electrical equipment and component man...   \n",
       "\n",
       "  2023 National Employment Matrix code  Employment, 2023  Employment, 2033  \\\n",
       "0                               221114              12.9              48.6   \n",
       "1                               221115               9.3              20.0   \n",
       "2                               221118               4.0               5.8   \n",
       "3                               221116               1.3               1.8   \n",
       "4                               335900             164.8             227.0   \n",
       "\n",
       "   Employment change, numeric, 2023–33  Employment change, percent, 2023–33  \n",
       "0                                 35.7                                275.9  \n",
       "1                                 10.7                                115.1  \n",
       "2                                  1.8                                 46.5  \n",
       "3                                  0.5                                 42.1  \n",
       "4                                 62.2                                 37.7  "
      ]
     },
     "execution_count": 13,
     "metadata": {},
     "output_type": "execute_result"
    }
   ],
   "source": [
    "#| output: false\n",
    "#| echo: false\n",
    "\n",
    "df4.head()"
   ]
  },
  {
   "cell_type": "markdown",
   "metadata": {},
   "source": [
    "###  Industries with the largest wage and salary employment growth "
   ]
  },
  {
   "cell_type": "code",
   "execution_count": 14,
   "metadata": {},
   "outputs": [],
   "source": [
    "#| output: false\n",
    "#| echo: false\n",
    "\n",
    "# Load table 2.5\n",
    "df5 = pd.read_excel(file_path2, sheet_name='Table 2.5', header=1)\n",
    "\n",
    "# Drop non-essential rows \n",
    "df5 = df5.iloc[1:11].reset_index(drop=True)\n",
    "\n",
    "#df5"
   ]
  },
  {
   "cell_type": "code",
   "execution_count": 15,
   "metadata": {},
   "outputs": [
    {
     "data": {
      "text/html": [
       "<div>\n",
       "<style scoped>\n",
       "    .dataframe tbody tr th:only-of-type {\n",
       "        vertical-align: middle;\n",
       "    }\n",
       "\n",
       "    .dataframe tbody tr th {\n",
       "        vertical-align: top;\n",
       "    }\n",
       "\n",
       "    .dataframe thead th {\n",
       "        text-align: right;\n",
       "    }\n",
       "</style>\n",
       "<table border=\"1\" class=\"dataframe\">\n",
       "  <thead>\n",
       "    <tr style=\"text-align: right;\">\n",
       "      <th></th>\n",
       "      <th>2023 National Employment Matrix title</th>\n",
       "      <th>2023 National Employment Matrix code</th>\n",
       "      <th>Employment, 2023</th>\n",
       "      <th>Employment, 2033</th>\n",
       "      <th>Employment change, numeric, 2023–33</th>\n",
       "      <th>Employment change, percent, 2023–33</th>\n",
       "    </tr>\n",
       "  </thead>\n",
       "  <tbody>\n",
       "    <tr>\n",
       "      <th>0</th>\n",
       "      <td>Services for the elderly and persons with di...</td>\n",
       "      <td>624120</td>\n",
       "      <td>2313.4</td>\n",
       "      <td>2927.1</td>\n",
       "      <td>613.7</td>\n",
       "      <td>26.5</td>\n",
       "    </tr>\n",
       "    <tr>\n",
       "      <th>1</th>\n",
       "      <td>Computer systems design and related services</td>\n",
       "      <td>541500</td>\n",
       "      <td>2500.1</td>\n",
       "      <td>2987.7</td>\n",
       "      <td>487.6</td>\n",
       "      <td>19.5</td>\n",
       "    </tr>\n",
       "    <tr>\n",
       "      <th>2</th>\n",
       "      <td>Home healthcare services</td>\n",
       "      <td>621600</td>\n",
       "      <td>1627.2</td>\n",
       "      <td>1952.5</td>\n",
       "      <td>325.3</td>\n",
       "      <td>20.0</td>\n",
       "    </tr>\n",
       "    <tr>\n",
       "      <th>3</th>\n",
       "      <td>Offices of physicians</td>\n",
       "      <td>621100</td>\n",
       "      <td>2920.8</td>\n",
       "      <td>3170.2</td>\n",
       "      <td>249.4</td>\n",
       "      <td>8.5</td>\n",
       "    </tr>\n",
       "    <tr>\n",
       "      <th>4</th>\n",
       "      <td>General medical and surgical hospitals; private</td>\n",
       "      <td>62210P</td>\n",
       "      <td>4886.3</td>\n",
       "      <td>5123.7</td>\n",
       "      <td>237.4</td>\n",
       "      <td>4.9</td>\n",
       "    </tr>\n",
       "  </tbody>\n",
       "</table>\n",
       "</div>"
      ],
      "text/plain": [
       "               2023 National Employment Matrix title  \\\n",
       "0    Services for the elderly and persons with di...   \n",
       "1       Computer systems design and related services   \n",
       "2                           Home healthcare services   \n",
       "3                              Offices of physicians   \n",
       "4    General medical and surgical hospitals; private   \n",
       "\n",
       "  2023 National Employment Matrix code  Employment, 2023  Employment, 2033  \\\n",
       "0                               624120            2313.4            2927.1   \n",
       "1                               541500            2500.1            2987.7   \n",
       "2                               621600            1627.2            1952.5   \n",
       "3                               621100            2920.8            3170.2   \n",
       "4                               62210P            4886.3            5123.7   \n",
       "\n",
       "   Employment change, numeric, 2023–33  Employment change, percent, 2023–33  \n",
       "0                                613.7                                 26.5  \n",
       "1                                487.6                                 19.5  \n",
       "2                                325.3                                 20.0  \n",
       "3                                249.4                                  8.5  \n",
       "4                                237.4                                  4.9  "
      ]
     },
     "execution_count": 15,
     "metadata": {},
     "output_type": "execute_result"
    }
   ],
   "source": [
    "#| output: false\n",
    "#| echo: false\n",
    "\n",
    "df5.head()"
   ]
  },
  {
   "cell_type": "markdown",
   "metadata": {},
   "source": [
    "###  Industries with the fastest growing output"
   ]
  },
  {
   "cell_type": "code",
   "execution_count": 16,
   "metadata": {},
   "outputs": [],
   "source": [
    "#| output: false\n",
    "#| echo: false\n",
    "\n",
    "# Load table 2.7\n",
    "df6 = pd.read_excel(file_path2, sheet_name='Table 2.7', header=1)\n",
    "\n",
    "# Drop non-essential rows \n",
    "df6 = df6.iloc[:10].reset_index(drop=True)\n",
    "\n",
    "#df6"
   ]
  },
  {
   "cell_type": "code",
   "execution_count": 17,
   "metadata": {},
   "outputs": [
    {
     "data": {
      "text/html": [
       "<div>\n",
       "<style scoped>\n",
       "    .dataframe tbody tr th:only-of-type {\n",
       "        vertical-align: middle;\n",
       "    }\n",
       "\n",
       "    .dataframe tbody tr th {\n",
       "        vertical-align: top;\n",
       "    }\n",
       "\n",
       "    .dataframe thead th {\n",
       "        text-align: right;\n",
       "    }\n",
       "</style>\n",
       "<table border=\"1\" class=\"dataframe\">\n",
       "  <thead>\n",
       "    <tr style=\"text-align: right;\">\n",
       "      <th></th>\n",
       "      <th>Industry description</th>\n",
       "      <th>Sector</th>\n",
       "      <th>2022 NAICS</th>\n",
       "      <th>Output, 2023</th>\n",
       "      <th>Output, 2033</th>\n",
       "      <th>Employment change, numeric, 2023–33</th>\n",
       "      <th>Compound annual rate of change, 2023–33</th>\n",
       "    </tr>\n",
       "  </thead>\n",
       "  <tbody>\n",
       "    <tr>\n",
       "      <th>0</th>\n",
       "      <td>Software publishers</td>\n",
       "      <td>Information</td>\n",
       "      <td>5132.0</td>\n",
       "      <td>530.6</td>\n",
       "      <td>924.7</td>\n",
       "      <td>394.1</td>\n",
       "      <td>5.7</td>\n",
       "    </tr>\n",
       "    <tr>\n",
       "      <th>1</th>\n",
       "      <td>Computing infrastructure providers, data proce...</td>\n",
       "      <td>Information</td>\n",
       "      <td>518.0</td>\n",
       "      <td>405.8</td>\n",
       "      <td>608.6</td>\n",
       "      <td>202.7</td>\n",
       "      <td>4.1</td>\n",
       "    </tr>\n",
       "    <tr>\n",
       "      <th>2</th>\n",
       "      <td>Oil and gas extraction</td>\n",
       "      <td>Mining, quarrying, and oil and gas extraction</td>\n",
       "      <td>211.0</td>\n",
       "      <td>359.4</td>\n",
       "      <td>521.4</td>\n",
       "      <td>162.0</td>\n",
       "      <td>3.8</td>\n",
       "    </tr>\n",
       "    <tr>\n",
       "      <th>3</th>\n",
       "      <td>Home healthcare services</td>\n",
       "      <td>Healthcare and social assistance</td>\n",
       "      <td>6216.0</td>\n",
       "      <td>106.6</td>\n",
       "      <td>152.7</td>\n",
       "      <td>46.2</td>\n",
       "      <td>3.7</td>\n",
       "    </tr>\n",
       "    <tr>\n",
       "      <th>4</th>\n",
       "      <td>Offices of physicians</td>\n",
       "      <td>Healthcare and social assistance</td>\n",
       "      <td>6211.0</td>\n",
       "      <td>586.1</td>\n",
       "      <td>805.1</td>\n",
       "      <td>219.0</td>\n",
       "      <td>3.2</td>\n",
       "    </tr>\n",
       "  </tbody>\n",
       "</table>\n",
       "</div>"
      ],
      "text/plain": [
       "                                Industry description  \\\n",
       "0                                Software publishers   \n",
       "1  Computing infrastructure providers, data proce...   \n",
       "2                             Oil and gas extraction   \n",
       "3                           Home healthcare services   \n",
       "4                              Offices of physicians   \n",
       "\n",
       "                                          Sector  2022 NAICS  Output, 2023  \\\n",
       "0                                    Information      5132.0         530.6   \n",
       "1                                    Information       518.0         405.8   \n",
       "2  Mining, quarrying, and oil and gas extraction       211.0         359.4   \n",
       "3               Healthcare and social assistance      6216.0         106.6   \n",
       "4               Healthcare and social assistance      6211.0         586.1   \n",
       "\n",
       "   Output, 2033  Employment change, numeric, 2023–33  \\\n",
       "0         924.7                                394.1   \n",
       "1         608.6                                202.7   \n",
       "2         521.4                                162.0   \n",
       "3         152.7                                 46.2   \n",
       "4         805.1                                219.0   \n",
       "\n",
       "   Compound annual rate of change, 2023–33  \n",
       "0                                      5.7  \n",
       "1                                      4.1  \n",
       "2                                      3.8  \n",
       "3                                      3.7  \n",
       "4                                      3.2  "
      ]
     },
     "execution_count": 17,
     "metadata": {},
     "output_type": "execute_result"
    }
   ],
   "source": [
    "#| output: false\n",
    "#| echo: false\n",
    "df6.head()"
   ]
  },
  {
   "cell_type": "code",
   "execution_count": 18,
   "metadata": {},
   "outputs": [],
   "source": [
    "#| output: false\n",
    "#| echo: false\n",
    "\n",
    "# Change type \n",
    "df6['2022 NAICS'] = df6['2022 NAICS'].astype('Int64').astype(str)"
   ]
  },
  {
   "cell_type": "code",
   "execution_count": 19,
   "metadata": {},
   "outputs": [
    {
     "data": {
      "text/plain": [
       "Industry description                        object\n",
       "Sector                                      object\n",
       "2022 NAICS                                  object\n",
       "Output, 2023                               float64\n",
       "Output, 2033                               float64\n",
       "Employment change, numeric, 2023–33        float64\n",
       "Compound annual rate of change, 2023–33    float64\n",
       "dtype: object"
      ]
     },
     "execution_count": 19,
     "metadata": {},
     "output_type": "execute_result"
    }
   ],
   "source": [
    "#| output: false\n",
    "#| echo: false\n",
    "df6.dtypes"
   ]
  },
  {
   "cell_type": "markdown",
   "metadata": {},
   "source": [
    "###  Industries with the largest output growth"
   ]
  },
  {
   "cell_type": "code",
   "execution_count": 20,
   "metadata": {},
   "outputs": [],
   "source": [
    "#| output: false\n",
    "#| echo: false\n",
    "\n",
    "# Load table 2.9\n",
    "df7 = pd.read_excel(file_path2, sheet_name='Table 2.9', header=1)\n",
    "\n",
    "# Drop non-essential rows \n",
    "df7 = df7.iloc[:10].reset_index(drop=True)\n",
    "\n",
    "#df7"
   ]
  },
  {
   "cell_type": "code",
   "execution_count": 21,
   "metadata": {},
   "outputs": [
    {
     "data": {
      "text/html": [
       "<div>\n",
       "<style scoped>\n",
       "    .dataframe tbody tr th:only-of-type {\n",
       "        vertical-align: middle;\n",
       "    }\n",
       "\n",
       "    .dataframe tbody tr th {\n",
       "        vertical-align: top;\n",
       "    }\n",
       "\n",
       "    .dataframe thead th {\n",
       "        text-align: right;\n",
       "    }\n",
       "</style>\n",
       "<table border=\"1\" class=\"dataframe\">\n",
       "  <thead>\n",
       "    <tr style=\"text-align: right;\">\n",
       "      <th></th>\n",
       "      <th>Industry description</th>\n",
       "      <th>Sector</th>\n",
       "      <th>2022 NAICS</th>\n",
       "      <th>Output, 2023</th>\n",
       "      <th>Output, 2033</th>\n",
       "      <th>Employment change, numeric, 2023–33</th>\n",
       "      <th>Compound annual rate of change, 2023–33</th>\n",
       "    </tr>\n",
       "  </thead>\n",
       "  <tbody>\n",
       "    <tr>\n",
       "      <th>0</th>\n",
       "      <td>Wholesale trade</td>\n",
       "      <td>Wholesale trade</td>\n",
       "      <td>42</td>\n",
       "      <td>2090.5</td>\n",
       "      <td>2666.4</td>\n",
       "      <td>576.0</td>\n",
       "      <td>2.5</td>\n",
       "    </tr>\n",
       "    <tr>\n",
       "      <th>1</th>\n",
       "      <td>Real estate</td>\n",
       "      <td>Financial activities</td>\n",
       "      <td>531</td>\n",
       "      <td>2026.2</td>\n",
       "      <td>2485.6</td>\n",
       "      <td>459.4</td>\n",
       "      <td>2.1</td>\n",
       "    </tr>\n",
       "    <tr>\n",
       "      <th>2</th>\n",
       "      <td>All other retail trade (444, 449, 456-9)</td>\n",
       "      <td>Retail trade</td>\n",
       "      <td>444, 449, 456, 457, 458, 459</td>\n",
       "      <td>1262.9</td>\n",
       "      <td>1697.2</td>\n",
       "      <td>434.3</td>\n",
       "      <td>3.0</td>\n",
       "    </tr>\n",
       "    <tr>\n",
       "      <th>3</th>\n",
       "      <td>Software publishers</td>\n",
       "      <td>Information</td>\n",
       "      <td>5132</td>\n",
       "      <td>530.6</td>\n",
       "      <td>924.7</td>\n",
       "      <td>394.1</td>\n",
       "      <td>5.7</td>\n",
       "    </tr>\n",
       "    <tr>\n",
       "      <th>4</th>\n",
       "      <td>Hospitals; private</td>\n",
       "      <td>Healthcare and social assistance</td>\n",
       "      <td>622</td>\n",
       "      <td>953.2</td>\n",
       "      <td>1228.4</td>\n",
       "      <td>275.2</td>\n",
       "      <td>2.6</td>\n",
       "    </tr>\n",
       "  </tbody>\n",
       "</table>\n",
       "</div>"
      ],
      "text/plain": [
       "                       Industry description                            Sector  \\\n",
       "0                           Wholesale trade                   Wholesale trade   \n",
       "1                               Real estate              Financial activities   \n",
       "2  All other retail trade (444, 449, 456-9)                      Retail trade   \n",
       "3                       Software publishers                       Information   \n",
       "4                        Hospitals; private  Healthcare and social assistance   \n",
       "\n",
       "                     2022 NAICS  Output, 2023  Output, 2033  \\\n",
       "0                            42        2090.5        2666.4   \n",
       "1                           531        2026.2        2485.6   \n",
       "2  444, 449, 456, 457, 458, 459        1262.9        1697.2   \n",
       "3                          5132         530.6         924.7   \n",
       "4                           622         953.2        1228.4   \n",
       "\n",
       "   Employment change, numeric, 2023–33  \\\n",
       "0                                576.0   \n",
       "1                                459.4   \n",
       "2                                434.3   \n",
       "3                                394.1   \n",
       "4                                275.2   \n",
       "\n",
       "   Compound annual rate of change, 2023–33  \n",
       "0                                      2.5  \n",
       "1                                      2.1  \n",
       "2                                      3.0  \n",
       "3                                      5.7  \n",
       "4                                      2.6  "
      ]
     },
     "execution_count": 21,
     "metadata": {},
     "output_type": "execute_result"
    }
   ],
   "source": [
    "#| output: false\n",
    "#| echo: false\n",
    "\n",
    "df7.head()"
   ]
  },
  {
   "cell_type": "code",
   "execution_count": 22,
   "metadata": {},
   "outputs": [
    {
     "data": {
      "text/plain": [
       "Industry description                        object\n",
       "Sector                                      object\n",
       "2022 NAICS                                  object\n",
       "Output, 2023                               float64\n",
       "Output, 2033                               float64\n",
       "Employment change, numeric, 2023–33        float64\n",
       "Compound annual rate of change, 2023–33    float64\n",
       "dtype: object"
      ]
     },
     "execution_count": 22,
     "metadata": {},
     "output_type": "execute_result"
    }
   ],
   "source": [
    "#| output: false\n",
    "#| echo: false\n",
    "\n",
    "df7.dtypes"
   ]
  },
  {
   "cell_type": "markdown",
   "metadata": {},
   "source": [
    "## Clean Function "
   ]
  },
  {
   "cell_type": "code",
   "execution_count": 23,
   "metadata": {},
   "outputs": [
    {
     "name": "stderr",
     "output_type": "stream",
     "text": [
      "/var/folders/90/68qhzxsx2zs8j6gfxb__pwwr0000gn/T/ipykernel_40533/3195838151.py:12: FutureWarning: Downcasting behavior in `replace` is deprecated and will be removed in a future version. To retain the old behavior, explicitly call `result.infer_objects(copy=False)`. To opt-in to the future behavior, set `pd.set_option('future.no_silent_downcasting', True)`\n",
      "  df = df.replace('—', np.nan)\n",
      "/var/folders/90/68qhzxsx2zs8j6gfxb__pwwr0000gn/T/ipykernel_40533/3195838151.py:20: FutureWarning: DataFrame.applymap has been deprecated. Use DataFrame.map instead.\n",
      "  return df.applymap(clean_text)\n"
     ]
    }
   ],
   "source": [
    "#| output: false\n",
    "#| echo: false\n",
    "\n",
    "import string\n",
    "import re\n",
    "\n",
    "def clean_dataframe(df):\n",
    "    # Clean column names: lowercase, remove punctuation, replace spaces with underscores\n",
    "    df.columns = [\n",
    "        ''.join(char for char in col if char not in string.punctuation).replace(' ', '_').lower()\n",
    "        for col in df.columns\n",
    "    ]\n",
    "\n",
    "    # Replace the dash character with NaN\n",
    "    df = df.replace('—', np.nan)\n",
    "\n",
    "    # Clean unwanted characters from all string cells\n",
    "    def clean_text(val):\n",
    "        if isinstance(val, str):\n",
    "            return re.sub(r\"[=<>]\", \"\", val)\n",
    "        return val\n",
    "\n",
    "    return df.applymap(clean_text)\n",
    "\n",
    "# Apply to each DataFrame\n",
    "dfs = [df, df2, df3, df4, df5, df6, df7, dfmap]\n",
    "dfs = [clean_dataframe(d) for d in dfs]\n",
    "\n",
    "# Back to original names\n",
    "df, df2, df3, df4, df5, df6, df7, dfmap = dfs"
   ]
  },
  {
   "cell_type": "markdown",
   "metadata": {},
   "source": [
    "## Data Prep"
   ]
  },
  {
   "cell_type": "markdown",
   "metadata": {},
   "source": [
    "The industry data from the National Employment Matrix did not align directly with the industry codes in the occupation to industry mapping matrix.\n",
    "\n",
    "As an alternative approach, I merged industry titles into the occupation datasets df2 and df3 using dfmap. For each occupation in these datasets, the code matches the occupation code to its corresponding industry title in the mapping file and appends the result to a new DataFrame.\n",
    "\n",
    "Next, I use the OpenAI API to refine and verify the assigned industries by generating more accurate sector labels.\n"
   ]
  },
  {
   "cell_type": "markdown",
   "metadata": {},
   "source": [
    "### Merge Industry Titles"
   ]
  },
  {
   "cell_type": "code",
   "execution_count": 24,
   "metadata": {},
   "outputs": [],
   "source": [
    "#| output: false\n",
    "#| echo: false\n",
    "\n",
    "# Left join\n",
    "df2_with_industry = pd.merge(\n",
    "    df2,\n",
    "    dfmap[['2023_national_employment_matrix_occupation_code', '2023_national_employment_matrix_industry_title']],\n",
    "    left_on='2023_national_employment_matrix_code',\n",
    "    right_on='2023_national_employment_matrix_occupation_code',\n",
    "    how='left'\n",
    ")\n",
    "#df2_with_industry\n",
    "\n",
    "# Left join\n",
    "df3_with_industry = pd.merge(\n",
    "    df3,\n",
    "    dfmap[['2023_national_employment_matrix_occupation_code', '2023_national_employment_matrix_industry_title']],\n",
    "    left_on='2023_national_employment_matrix_code',\n",
    "    right_on='2023_national_employment_matrix_occupation_code',\n",
    "    how='left'\n",
    ")\n",
    "#df3_with_industry"
   ]
  },
  {
   "cell_type": "code",
   "execution_count": 25,
   "metadata": {},
   "outputs": [
    {
     "data": {
      "text/html": [
       "<div>\n",
       "<style scoped>\n",
       "    .dataframe tbody tr th:only-of-type {\n",
       "        vertical-align: middle;\n",
       "    }\n",
       "\n",
       "    .dataframe tbody tr th {\n",
       "        vertical-align: top;\n",
       "    }\n",
       "\n",
       "    .dataframe thead th {\n",
       "        text-align: right;\n",
       "    }\n",
       "</style>\n",
       "<table border=\"1\" class=\"dataframe\">\n",
       "  <thead>\n",
       "    <tr style=\"text-align: right;\">\n",
       "      <th></th>\n",
       "      <th>2023_national_employment_matrix_title</th>\n",
       "      <th>2023_national_employment_matrix_code</th>\n",
       "      <th>employment_2023</th>\n",
       "      <th>employment_2033</th>\n",
       "      <th>employment_change_numeric_202333</th>\n",
       "      <th>employment_change_percent_202333</th>\n",
       "      <th>median_annual_wage_dollars_20241</th>\n",
       "      <th>2023_national_employment_matrix_occupation_code</th>\n",
       "      <th>2023_national_employment_matrix_industry_title</th>\n",
       "    </tr>\n",
       "  </thead>\n",
       "  <tbody>\n",
       "    <tr>\n",
       "      <th>0</th>\n",
       "      <td>Home health and personal care aides</td>\n",
       "      <td>31-1120</td>\n",
       "      <td>3961.9</td>\n",
       "      <td>4782.4</td>\n",
       "      <td>820.5</td>\n",
       "      <td>20.7</td>\n",
       "      <td>34900.0</td>\n",
       "      <td>31-1120</td>\n",
       "      <td>Continuing care retirement communities and ass...</td>\n",
       "    </tr>\n",
       "    <tr>\n",
       "      <th>1</th>\n",
       "      <td>Home health and personal care aides</td>\n",
       "      <td>31-1120</td>\n",
       "      <td>3961.9</td>\n",
       "      <td>4782.4</td>\n",
       "      <td>820.5</td>\n",
       "      <td>20.7</td>\n",
       "      <td>34900.0</td>\n",
       "      <td>31-1120</td>\n",
       "      <td>Private households</td>\n",
       "    </tr>\n",
       "    <tr>\n",
       "      <th>2</th>\n",
       "      <td>Software developers</td>\n",
       "      <td>15-1252</td>\n",
       "      <td>1692.1</td>\n",
       "      <td>1995.7</td>\n",
       "      <td>303.7</td>\n",
       "      <td>17.9</td>\n",
       "      <td>133080.0</td>\n",
       "      <td>15-1252</td>\n",
       "      <td>Total employment</td>\n",
       "    </tr>\n",
       "    <tr>\n",
       "      <th>3</th>\n",
       "      <td>Software developers</td>\n",
       "      <td>15-1252</td>\n",
       "      <td>1692.1</td>\n",
       "      <td>1995.7</td>\n",
       "      <td>303.7</td>\n",
       "      <td>17.9</td>\n",
       "      <td>133080.0</td>\n",
       "      <td>15-1252</td>\n",
       "      <td>Research and development in the physical, engi...</td>\n",
       "    </tr>\n",
       "    <tr>\n",
       "      <th>4</th>\n",
       "      <td>Cooks, restaurant</td>\n",
       "      <td>35-2014</td>\n",
       "      <td>1434.2</td>\n",
       "      <td>1678.6</td>\n",
       "      <td>244.5</td>\n",
       "      <td>17.0</td>\n",
       "      <td>36830.0</td>\n",
       "      <td>35-2014</td>\n",
       "      <td>Total employment</td>\n",
       "    </tr>\n",
       "  </tbody>\n",
       "</table>\n",
       "</div>"
      ],
      "text/plain": [
       "   2023_national_employment_matrix_title 2023_national_employment_matrix_code  \\\n",
       "0    Home health and personal care aides                              31-1120   \n",
       "1    Home health and personal care aides                              31-1120   \n",
       "2                    Software developers                              15-1252   \n",
       "3                    Software developers                              15-1252   \n",
       "4                      Cooks, restaurant                              35-2014   \n",
       "\n",
       "   employment_2023  employment_2033  employment_change_numeric_202333  \\\n",
       "0           3961.9           4782.4                             820.5   \n",
       "1           3961.9           4782.4                             820.5   \n",
       "2           1692.1           1995.7                             303.7   \n",
       "3           1692.1           1995.7                             303.7   \n",
       "4           1434.2           1678.6                             244.5   \n",
       "\n",
       "   employment_change_percent_202333  median_annual_wage_dollars_20241  \\\n",
       "0                              20.7                           34900.0   \n",
       "1                              20.7                           34900.0   \n",
       "2                              17.9                          133080.0   \n",
       "3                              17.9                          133080.0   \n",
       "4                              17.0                           36830.0   \n",
       "\n",
       "  2023_national_employment_matrix_occupation_code  \\\n",
       "0                                         31-1120   \n",
       "1                                         31-1120   \n",
       "2                                         15-1252   \n",
       "3                                         15-1252   \n",
       "4                                         35-2014   \n",
       "\n",
       "      2023_national_employment_matrix_industry_title  \n",
       "0  Continuing care retirement communities and ass...  \n",
       "1                                 Private households  \n",
       "2                                   Total employment  \n",
       "3  Research and development in the physical, engi...  \n",
       "4                                   Total employment  "
      ]
     },
     "execution_count": 25,
     "metadata": {},
     "output_type": "execute_result"
    }
   ],
   "source": [
    "#| output: false\n",
    "#| echo: false\n",
    "\n",
    "# # Display all rows and columns\n",
    "# pd.set_option('display.max_rows', None)\n",
    "# pd.set_option('display.max_columns', None)\n",
    "\n",
    "#df3_with_industry\n",
    "df3_with_industry.head()"
   ]
  },
  {
   "cell_type": "markdown",
   "metadata": {},
   "source": [
    "### KMeans\n",
    "\n",
    "As an exploratory step, I applied KMeans clustering to the 2023_national_employment_matrix_industry_title column to group similar industries based on their text content. Using TfidfVectorizer, I converted the industry titles into numerical vectors and then clustered them into six groups. This was done separately for both df2_with_industry and df3_with_industry.\n",
    "\n",
    "While I recognize that industry titles are textual and not ideally suited for KMeans—which is better suited for continuous numerical data—I ran this experiment to quickly explore whether any meaningful clusters or themes might emerge from the industry labels."
   ]
  },
  {
   "cell_type": "code",
   "execution_count": 26,
   "metadata": {},
   "outputs": [],
   "source": [
    "#| output: false\n",
    "#| echo: false\n",
    "\n",
    "from sklearn.feature_extraction.text import TfidfVectorizer\n",
    "from sklearn.cluster import KMeans\n",
    "\n",
    "def cluster_industries(df, industry_col='2023_national_employment_matrix_industry_title', n_clusters=5):\n",
    "    # Fill missing values\n",
    "    df = df.copy()\n",
    "    df[industry_col] = df[industry_col].fillna(\"Unknown\")\n",
    "\n",
    "    # Vectorize the industry titles\n",
    "    vectorizer = TfidfVectorizer(stop_words='english')\n",
    "    X = vectorizer.fit_transform(df[industry_col])\n",
    "\n",
    "    # Apply KMeans clustering\n",
    "    kmeans = KMeans(n_clusters=n_clusters, random_state=42)\n",
    "    df['industry_cluster'] = kmeans.fit_predict(X)\n",
    "\n",
    "    return df\n",
    "\n",
    "# Apply separately\n",
    "df2_clustered = cluster_industries(df2_with_industry, industry_col='2023_national_employment_matrix_industry_title', n_clusters=6)\n",
    "df3_clustered = cluster_industries(df3_with_industry, industry_col='2023_national_employment_matrix_industry_title', n_clusters=6)"
   ]
  },
  {
   "cell_type": "code",
   "execution_count": 27,
   "metadata": {},
   "outputs": [
    {
     "data": {
      "text/html": [
       "<div>\n",
       "<style scoped>\n",
       "    .dataframe tbody tr th:only-of-type {\n",
       "        vertical-align: middle;\n",
       "    }\n",
       "\n",
       "    .dataframe tbody tr th {\n",
       "        vertical-align: top;\n",
       "    }\n",
       "\n",
       "    .dataframe thead th {\n",
       "        text-align: right;\n",
       "    }\n",
       "</style>\n",
       "<table border=\"1\" class=\"dataframe\">\n",
       "  <thead>\n",
       "    <tr style=\"text-align: right;\">\n",
       "      <th></th>\n",
       "      <th>2023_national_employment_matrix_title</th>\n",
       "      <th>2023_national_employment_matrix_code</th>\n",
       "      <th>employment_2023</th>\n",
       "      <th>employment_2033</th>\n",
       "      <th>employment_change_numeric_202333</th>\n",
       "      <th>employment_change_percent_202333</th>\n",
       "      <th>median_annual_wage_dollars_20241</th>\n",
       "      <th>2023_national_employment_matrix_occupation_code</th>\n",
       "      <th>2023_national_employment_matrix_industry_title</th>\n",
       "      <th>industry_cluster</th>\n",
       "    </tr>\n",
       "  </thead>\n",
       "  <tbody>\n",
       "    <tr>\n",
       "      <th>0</th>\n",
       "      <td>Home health and personal care aides</td>\n",
       "      <td>31-1120</td>\n",
       "      <td>3961.9</td>\n",
       "      <td>4782.4</td>\n",
       "      <td>820.5</td>\n",
       "      <td>20.7</td>\n",
       "      <td>34900.0</td>\n",
       "      <td>31-1120</td>\n",
       "      <td>Continuing care retirement communities and ass...</td>\n",
       "      <td>5</td>\n",
       "    </tr>\n",
       "    <tr>\n",
       "      <th>1</th>\n",
       "      <td>Home health and personal care aides</td>\n",
       "      <td>31-1120</td>\n",
       "      <td>3961.9</td>\n",
       "      <td>4782.4</td>\n",
       "      <td>820.5</td>\n",
       "      <td>20.7</td>\n",
       "      <td>34900.0</td>\n",
       "      <td>31-1120</td>\n",
       "      <td>Private households</td>\n",
       "      <td>1</td>\n",
       "    </tr>\n",
       "    <tr>\n",
       "      <th>2</th>\n",
       "      <td>Software developers</td>\n",
       "      <td>15-1252</td>\n",
       "      <td>1692.1</td>\n",
       "      <td>1995.7</td>\n",
       "      <td>303.7</td>\n",
       "      <td>17.9</td>\n",
       "      <td>133080.0</td>\n",
       "      <td>15-1252</td>\n",
       "      <td>Total employment</td>\n",
       "      <td>4</td>\n",
       "    </tr>\n",
       "    <tr>\n",
       "      <th>3</th>\n",
       "      <td>Software developers</td>\n",
       "      <td>15-1252</td>\n",
       "      <td>1692.1</td>\n",
       "      <td>1995.7</td>\n",
       "      <td>303.7</td>\n",
       "      <td>17.9</td>\n",
       "      <td>133080.0</td>\n",
       "      <td>15-1252</td>\n",
       "      <td>Research and development in the physical, engi...</td>\n",
       "      <td>1</td>\n",
       "    </tr>\n",
       "    <tr>\n",
       "      <th>4</th>\n",
       "      <td>Cooks, restaurant</td>\n",
       "      <td>35-2014</td>\n",
       "      <td>1434.2</td>\n",
       "      <td>1678.6</td>\n",
       "      <td>244.5</td>\n",
       "      <td>17.0</td>\n",
       "      <td>36830.0</td>\n",
       "      <td>35-2014</td>\n",
       "      <td>Total employment</td>\n",
       "      <td>4</td>\n",
       "    </tr>\n",
       "  </tbody>\n",
       "</table>\n",
       "</div>"
      ],
      "text/plain": [
       "   2023_national_employment_matrix_title 2023_national_employment_matrix_code  \\\n",
       "0    Home health and personal care aides                              31-1120   \n",
       "1    Home health and personal care aides                              31-1120   \n",
       "2                    Software developers                              15-1252   \n",
       "3                    Software developers                              15-1252   \n",
       "4                      Cooks, restaurant                              35-2014   \n",
       "\n",
       "   employment_2023  employment_2033  employment_change_numeric_202333  \\\n",
       "0           3961.9           4782.4                             820.5   \n",
       "1           3961.9           4782.4                             820.5   \n",
       "2           1692.1           1995.7                             303.7   \n",
       "3           1692.1           1995.7                             303.7   \n",
       "4           1434.2           1678.6                             244.5   \n",
       "\n",
       "   employment_change_percent_202333  median_annual_wage_dollars_20241  \\\n",
       "0                              20.7                           34900.0   \n",
       "1                              20.7                           34900.0   \n",
       "2                              17.9                          133080.0   \n",
       "3                              17.9                          133080.0   \n",
       "4                              17.0                           36830.0   \n",
       "\n",
       "  2023_national_employment_matrix_occupation_code  \\\n",
       "0                                         31-1120   \n",
       "1                                         31-1120   \n",
       "2                                         15-1252   \n",
       "3                                         15-1252   \n",
       "4                                         35-2014   \n",
       "\n",
       "      2023_national_employment_matrix_industry_title  industry_cluster  \n",
       "0  Continuing care retirement communities and ass...                 5  \n",
       "1                                 Private households                 1  \n",
       "2                                   Total employment                 4  \n",
       "3  Research and development in the physical, engi...                 1  \n",
       "4                                   Total employment                 4  "
      ]
     },
     "execution_count": 27,
     "metadata": {},
     "output_type": "execute_result"
    }
   ],
   "source": [
    "#| output: false\n",
    "#| echo: false\n",
    "\n",
    "df3_clustered.head()"
   ]
  },
  {
   "cell_type": "markdown",
   "metadata": {},
   "source": [
    "### OpenAi API \n",
    "\n",
    "Using the API and prompt engineering to assign industry sectors and later fill in missing industry titles for each occupation.\n"
   ]
  },
  {
   "cell_type": "code",
   "execution_count": 28,
   "metadata": {},
   "outputs": [],
   "source": [
    "#| output: false\n",
    "#| echo: false\n",
    "\n",
    "# Call in city credentials secret key \n",
    "import sys\n",
    "sys.path.append('/Users/cantu/Documents/Emerging _Industries')\n",
    "\n",
    "from Open_Ai_Skey import openai_key\n",
    "\n",
    "import openai\n",
    "openai.api_key = openai_key"
   ]
  },
  {
   "cell_type": "code",
   "execution_count": 29,
   "metadata": {},
   "outputs": [],
   "source": [
    "#| output: false\n",
    "#| echo: false\n",
    "\n",
    "# Set OpenAI key\n",
    "client = openai.OpenAI(api_key=openai_key)\n",
    "\n",
    "def label_sectors_from_llm(df, occupation_col):\n",
    "    # Get unique occupations\n",
    "    unique_occupations = df[occupation_col].dropna().unique()\n",
    "    sector_results = []\n",
    "\n",
    "    for title in unique_occupations:\n",
    "        prompt = (\n",
    "            f\"What is the broad industry sector for the occupation: '{title}'? \"\n",
    "            \"Return only one or two words like Healthcare, Energy, Information, Construction, etc.\"\n",
    "        )\n",
    "        try:\n",
    "            response = client.chat.completions.create(\n",
    "                model=\"gpt-3.5-turbo\",\n",
    "                messages=[\n",
    "                    {\"role\": \"system\", \"content\": \"You are an expert in U.S. labor market classification.\"},\n",
    "                    {\"role\": \"user\", \"content\": prompt}\n",
    "                ],\n",
    "                temperature=0,\n",
    "            )\n",
    "            sector = response.choices[0].message.content.strip()\n",
    "        except Exception as e:\n",
    "            print(f\"Error with occupation '{title}': {e}\")\n",
    "            sector = \"Unknown\"\n",
    "        \n",
    "        sector_results.append((title, sector))\n",
    "\n",
    "    # Convert to df\n",
    "    sector_df = pd.DataFrame(sector_results, columns=[occupation_col, \"llm_sector\"])\n",
    "    # Merge back to original df\n",
    "    df_labeled = df.merge(sector_df, on=occupation_col, how=\"left\")\n",
    "    return df_labeled\n",
    "\n",
    "# Apply to both dataframes\n",
    "df2_labeled = label_sectors_from_llm(df2_with_industry, \"2023_national_employment_matrix_title\")\n",
    "df3_labeled = label_sectors_from_llm(df3_with_industry, \"2023_national_employment_matrix_title\")\n"
   ]
  },
  {
   "cell_type": "code",
   "execution_count": 30,
   "metadata": {},
   "outputs": [
    {
     "data": {
      "text/html": [
       "<div>\n",
       "<style scoped>\n",
       "    .dataframe tbody tr th:only-of-type {\n",
       "        vertical-align: middle;\n",
       "    }\n",
       "\n",
       "    .dataframe tbody tr th {\n",
       "        vertical-align: top;\n",
       "    }\n",
       "\n",
       "    .dataframe thead th {\n",
       "        text-align: right;\n",
       "    }\n",
       "</style>\n",
       "<table border=\"1\" class=\"dataframe\">\n",
       "  <thead>\n",
       "    <tr style=\"text-align: right;\">\n",
       "      <th></th>\n",
       "      <th>2023_national_employment_matrix_title</th>\n",
       "      <th>2023_national_employment_matrix_code</th>\n",
       "      <th>employment_2023</th>\n",
       "      <th>employment_2033</th>\n",
       "      <th>employment_change_numeric_202333</th>\n",
       "      <th>employment_change_percent_202333</th>\n",
       "      <th>median_annual_wage_dollars_20241</th>\n",
       "      <th>2023_national_employment_matrix_occupation_code</th>\n",
       "      <th>2023_national_employment_matrix_industry_title</th>\n",
       "      <th>llm_sector</th>\n",
       "    </tr>\n",
       "  </thead>\n",
       "  <tbody>\n",
       "    <tr>\n",
       "      <th>0</th>\n",
       "      <td>Home health and personal care aides</td>\n",
       "      <td>31-1120</td>\n",
       "      <td>3961.9</td>\n",
       "      <td>4782.4</td>\n",
       "      <td>820.5</td>\n",
       "      <td>20.7</td>\n",
       "      <td>34900.0</td>\n",
       "      <td>31-1120</td>\n",
       "      <td>Continuing care retirement communities and ass...</td>\n",
       "      <td>Healthcare</td>\n",
       "    </tr>\n",
       "    <tr>\n",
       "      <th>1</th>\n",
       "      <td>Home health and personal care aides</td>\n",
       "      <td>31-1120</td>\n",
       "      <td>3961.9</td>\n",
       "      <td>4782.4</td>\n",
       "      <td>820.5</td>\n",
       "      <td>20.7</td>\n",
       "      <td>34900.0</td>\n",
       "      <td>31-1120</td>\n",
       "      <td>Private households</td>\n",
       "      <td>Healthcare</td>\n",
       "    </tr>\n",
       "    <tr>\n",
       "      <th>2</th>\n",
       "      <td>Software developers</td>\n",
       "      <td>15-1252</td>\n",
       "      <td>1692.1</td>\n",
       "      <td>1995.7</td>\n",
       "      <td>303.7</td>\n",
       "      <td>17.9</td>\n",
       "      <td>133080.0</td>\n",
       "      <td>15-1252</td>\n",
       "      <td>Total employment</td>\n",
       "      <td>Information Technology</td>\n",
       "    </tr>\n",
       "    <tr>\n",
       "      <th>3</th>\n",
       "      <td>Software developers</td>\n",
       "      <td>15-1252</td>\n",
       "      <td>1692.1</td>\n",
       "      <td>1995.7</td>\n",
       "      <td>303.7</td>\n",
       "      <td>17.9</td>\n",
       "      <td>133080.0</td>\n",
       "      <td>15-1252</td>\n",
       "      <td>Research and development in the physical, engi...</td>\n",
       "      <td>Information Technology</td>\n",
       "    </tr>\n",
       "    <tr>\n",
       "      <th>4</th>\n",
       "      <td>Cooks, restaurant</td>\n",
       "      <td>35-2014</td>\n",
       "      <td>1434.2</td>\n",
       "      <td>1678.6</td>\n",
       "      <td>244.5</td>\n",
       "      <td>17.0</td>\n",
       "      <td>36830.0</td>\n",
       "      <td>35-2014</td>\n",
       "      <td>Total employment</td>\n",
       "      <td>Hospitality</td>\n",
       "    </tr>\n",
       "  </tbody>\n",
       "</table>\n",
       "</div>"
      ],
      "text/plain": [
       "   2023_national_employment_matrix_title 2023_national_employment_matrix_code  \\\n",
       "0    Home health and personal care aides                              31-1120   \n",
       "1    Home health and personal care aides                              31-1120   \n",
       "2                    Software developers                              15-1252   \n",
       "3                    Software developers                              15-1252   \n",
       "4                      Cooks, restaurant                              35-2014   \n",
       "\n",
       "   employment_2023  employment_2033  employment_change_numeric_202333  \\\n",
       "0           3961.9           4782.4                             820.5   \n",
       "1           3961.9           4782.4                             820.5   \n",
       "2           1692.1           1995.7                             303.7   \n",
       "3           1692.1           1995.7                             303.7   \n",
       "4           1434.2           1678.6                             244.5   \n",
       "\n",
       "   employment_change_percent_202333  median_annual_wage_dollars_20241  \\\n",
       "0                              20.7                           34900.0   \n",
       "1                              20.7                           34900.0   \n",
       "2                              17.9                          133080.0   \n",
       "3                              17.9                          133080.0   \n",
       "4                              17.0                           36830.0   \n",
       "\n",
       "  2023_national_employment_matrix_occupation_code  \\\n",
       "0                                         31-1120   \n",
       "1                                         31-1120   \n",
       "2                                         15-1252   \n",
       "3                                         15-1252   \n",
       "4                                         35-2014   \n",
       "\n",
       "      2023_national_employment_matrix_industry_title              llm_sector  \n",
       "0  Continuing care retirement communities and ass...              Healthcare  \n",
       "1                                 Private households              Healthcare  \n",
       "2                                   Total employment  Information Technology  \n",
       "3  Research and development in the physical, engi...  Information Technology  \n",
       "4                                   Total employment             Hospitality  "
      ]
     },
     "execution_count": 30,
     "metadata": {},
     "output_type": "execute_result"
    }
   ],
   "source": [
    "#| output: false\n",
    "#| echo: false\n",
    "\n",
    "df3_labeled.head()"
   ]
  },
  {
   "cell_type": "markdown",
   "metadata": {},
   "source": [
    "### Flatten the file \n",
    " Group jobs by title, keeps key stats like wages and employment, and lists up to five related industries in separate columns to make the data easier to read and analyze."
   ]
  },
  {
   "cell_type": "code",
   "execution_count": 31,
   "metadata": {},
   "outputs": [],
   "source": [
    "#| output: false\n",
    "#| echo: false\n",
    "\n",
    "# Flat function \n",
    "def flatten_industries_with_sector(df, max_industries=5):\n",
    "    # Group by occupation and collect metrics + industries\n",
    "    grouped = df.groupby(\n",
    "        ['2023_national_employment_matrix_title', '2023_national_employment_matrix_code'], as_index=False\n",
    "    ).agg({\n",
    "        'employment_2023': 'first',\n",
    "        'employment_2033': 'first',\n",
    "        'employment_change_numeric_202333': 'first',\n",
    "        'employment_change_percent_202333': 'first',\n",
    "        'median_annual_wage_dollars_20241': 'first',\n",
    "        'llm_sector': 'first',  # LLM-labeled sector\n",
    "        '2023_national_employment_matrix_industry_title': lambda x: list(pd.unique(x.dropna()))\n",
    "    })\n",
    "\n",
    "    # Expand industry titles into columns\n",
    "    industry_cols = grouped['2023_national_employment_matrix_industry_title'].apply(\n",
    "        lambda x: x[:max_industries] + [None]*(max_industries - len(x)) if len(x) < max_industries else x[:max_industries]\n",
    "    )\n",
    "    industry_df = pd.DataFrame(industry_cols.tolist(), columns=[f'industry_{i+1}' for i in range(max_industries)])\n",
    "\n",
    "    # Combine everything\n",
    "    final_df = pd.concat([grouped.drop(columns=['2023_national_employment_matrix_industry_title']), industry_df], axis=1)\n",
    "    return final_df\n"
   ]
  },
  {
   "cell_type": "code",
   "execution_count": 32,
   "metadata": {},
   "outputs": [],
   "source": [
    "#| output: false\n",
    "#| echo: false\n",
    "\n",
    "# Apply Function\n",
    "df2_flat = flatten_industries_with_sector(df2_labeled, max_industries=5)\n",
    "df3_flat = flatten_industries_with_sector(df3_labeled, max_industries=5)"
   ]
  },
  {
   "cell_type": "code",
   "execution_count": 2,
   "metadata": {},
   "outputs": [],
   "source": [
    "#| output: false\n",
    "#| echo: false\n",
    "\n",
    "#df2_flat.head()\n",
    "#df3_flat.head()\n",
    "#df2_flat"
   ]
  },
  {
   "cell_type": "markdown",
   "metadata": {},
   "source": [
    "Fill in the missing and \"total employment\" industry column with llm "
   ]
  },
  {
   "cell_type": "code",
   "execution_count": 34,
   "metadata": {},
   "outputs": [],
   "source": [
    "#| output: false\n",
    "#| echo: false\n",
    "\n",
    "def fill_missing_industry_1(df, occupation_col, sector_col, industry_col=\"industry_1\"):\n",
    "    import pandas as pd\n",
    "\n",
    "    # Double check  industry_col is string and clean\n",
    "    df[industry_col] = df[industry_col].astype(str).str.strip()\n",
    "    df[industry_col] = df[industry_col].replace(\"nan\", pd.NA)\n",
    "    \n",
    "    # Mask for NaN or \"Total employment\"\n",
    "    mask = df[industry_col].isna() | (df[industry_col].str.lower() == \"total employment\")\n",
    "    df_missing = df[mask]\n",
    "\n",
    "    replacements = []\n",
    "\n",
    "    for _, row in df_missing.iterrows():\n",
    "        occupation = row[occupation_col]\n",
    "        sector = row[sector_col]\n",
    "\n",
    "        prompt = (\n",
    "            f\"What is the most likely specific industry for someone working as a '{occupation}' \"\n",
    "            f\"in the '{sector}' sector? Respond with only the industry name, like \"\n",
    "            f\"'Insurance carriers', 'Warehousing and storage', or 'Veterinary services'.\"\n",
    "        )\n",
    "\n",
    "        try:\n",
    "            response = client.chat.completions.create(\n",
    "                model=\"gpt-3.5-turbo\",\n",
    "                messages=[\n",
    "                    {\"role\": \"system\", \"content\": \"You are an expert in U.S. labor and industry classifications.\"},\n",
    "                    {\"role\": \"user\", \"content\": prompt}\n",
    "                ],\n",
    "                temperature=0,\n",
    "            )\n",
    "            inferred_industry = response.choices[0].message.content.strip()\n",
    "        except Exception as e:\n",
    "            print(f\"Error for '{occupation}' in '{sector}': {e}\")\n",
    "            inferred_industry = \"Unknown\"\n",
    "\n",
    "        replacements.append(((occupation, sector), inferred_industry))\n",
    "\n",
    "    # Create df from gpt results\n",
    "    replacements_df = pd.DataFrame(replacements, columns=[\"key\", \"inferred_industry\"])\n",
    "    replacements_df[occupation_col] = replacements_df[\"key\"].apply(lambda x: x[0])\n",
    "    replacements_df[sector_col] = replacements_df[\"key\"].apply(lambda x: x[1])\n",
    "    replacements_df.drop(columns=\"key\", inplace=True)\n",
    "\n",
    "    # Merge and apply\n",
    "    df_updated = df.merge(replacements_df, on=[occupation_col, sector_col], how=\"left\")\n",
    "    df_updated[industry_col] = df_updated[industry_col].where(\n",
    "        ~mask, df_updated[\"inferred_industry\"]\n",
    "    )\n",
    "    df_updated.drop(columns=\"inferred_industry\", inplace=True)\n",
    "\n",
    "    return df_updated\n"
   ]
  },
  {
   "cell_type": "code",
   "execution_count": 35,
   "metadata": {},
   "outputs": [],
   "source": [
    "#| output: false\n",
    "#| echo: false\n",
    "\n",
    "df2_flat = fill_missing_industry_1(df2_flat,\n",
    "    occupation_col=\"2023_national_employment_matrix_title\",\n",
    "    sector_col=\"llm_sector\",\n",
    "    industry_col=\"industry_1\"\n",
    ")\n",
    "\n",
    "df3_flat = fill_missing_industry_1(df3_flat,\n",
    "    occupation_col=\"2023_national_employment_matrix_title\",\n",
    "    sector_col=\"llm_sector\",\n",
    "    industry_col=\"industry_1\"\n",
    ")\n"
   ]
  },
  {
   "cell_type": "markdown",
   "metadata": {},
   "source": [
    "# Where the U.S. Economy is Headed"
   ]
  },
  {
   "cell_type": "markdown",
   "metadata": {},
   "source": [
    "To identify emerging markets in the United States, this project analyzes four key datasets: the fastest growing occupations from 2023 to 2033, occupations with the most total job growth over the same period, industries with the fastest output growth, and industries with the largest absolute output gains. By cross-referencing occupational and industry trends, we aim to uncover areas of sustained economic momentum and workforce demand. This analysis serves as the foundation for a broader effort to determine which of these emerging markets align with the City of El Paso’s existing industry capabilities—informing strategic decisions around economic development, workforce planning, and future investment opportunities."
   ]
  },
  {
   "cell_type": "markdown",
   "metadata": {},
   "source": [
    "Top 15 Fastest Growing Occupations (by % Growth)\n",
    "\n"
   ]
  },
  {
   "cell_type": "code",
   "execution_count": 61,
   "metadata": {},
   "outputs": [
    {
     "data": {
      "image/png": "[encoded data removed]",
      "text/plain": [
       "<Figure size 1000x600 with 1 Axes>"
      ]
     },
     "metadata": {},
     "output_type": "display_data"
    }
   ],
   "source": [
    "#| echo: false\n",
    "\n",
    "import matplotlib.pyplot as plt\n",
    "\n",
    "ax = df2_flat.nlargest(15, 'employment_change_percent_202333').plot.barh(\n",
    "    x='2023_national_employment_matrix_title',\n",
    "    y='employment_change_percent_202333',\n",
    "    figsize=(10, 6),\n",
    "    label='Employment Percent 2023-2033', \n",
    "    color='darkblue'\n",
    ")\n",
    "\n",
    "\n",
    "ax.set_title('Top 15 Occupations by Employment Growth Rate', fontsize=13, loc='left')\n",
    "ax.set_xlabel('Employment Growth (%)', fontsize=12)\n",
    "ax.set_ylabel('Occupation Title', fontsize=12)\n",
    "\n",
    "plt.tight_layout()\n",
    "plt.show()"
   ]
  },
  {
   "cell_type": "markdown",
   "metadata": {},
   "source": [
    "Based on projected percentage growth. At the top of the list are Wind Turbine Service Technicians and Solar Photovoltaic Installers, both reflecting the rapid expansion of the clean energy sector. Other high-growth occupations include Nurse Practitioners, Data Scientists, and Information Security Analysts indicating continued demand in healthcare and technology. Several roles in healthcare support advanced analytics (e.g., Physician Assistants, Medical and Health Services Managers, and Operations Research Analysts) also show strong growth, suggesting a broader trend toward data-driven, tech enabled service economies. "
   ]
  },
  {
   "cell_type": "markdown",
   "metadata": {},
   "source": [
    "Top 10 Occupations by Total Job Growth\n",
    "\n"
   ]
  },
  {
   "cell_type": "code",
   "execution_count": 73,
   "metadata": {},
   "outputs": [
    {
     "data": {
      "text/plain": [
       "<matplotlib.legend.Legend at 0x3249bbc50>"
      ]
     },
     "execution_count": 73,
     "metadata": {},
     "output_type": "execute_result"
    },
    {
     "data": {
      "image/png": "[encoded data removed]",
      "text/plain": [
       "<Figure size 1000x600 with 1 Axes>"
      ]
     },
     "metadata": {},
     "output_type": "display_data"
    }
   ],
   "source": [
    "#| echo: false\n",
    "ax = df3_flat.nlargest(10, 'employment_change_numeric_202333').plot.barh(\n",
    "    x='2023_national_employment_matrix_title',\n",
    "    y='employment_change_numeric_202333',\n",
    "    color='gold',\n",
    "    label='Projected Job Growth (2023–2033)',\n",
    "    figsize=(10, 6)\n",
    ")\n",
    "\n",
    "\n",
    "ax.set_title('Top 10 U.S. Occupations by Total Job Growth', fontsize=14)\n",
    "ax.set_xlabel('Projected Job Growth (Number of Jobs)', fontsize=12)\n",
    "ax.set_ylabel('Occupation Title', fontsize=12)\n",
    "ax.legend(title='Job Growth') \n",
    "# ax.invert_yaxis()  "
   ]
  },
  {
   "cell_type": "markdown",
   "metadata": {},
   "source": [
    "We see a snapshot of where the largest absolute employment gains are expected. Leading the list is Home Health and Personal Care Aides, with over 800,000 projected new jobs highlighting the accelerating need for caregiving roles amid an aging population. Other major contributors include Software Developers, Cooks, and Registered Nurses, reflecting continued growth in healthcare, hospitality, and tech driven services. This mix of high-skill and essential service occupations suggests opportunities not only in high-wage sectors but also in foundational workforce segments that support broader economic ecosystems. For El Paso, understanding which of these roles align with the region’s existing infrastructure such as medical centers, post-secondary institutions, or a growing logistics network—can inform targeted investments in training programs, business attraction strategies, and incentive design to capitalize on these national labor market shifts."
   ]
  },
  {
   "cell_type": "markdown",
   "metadata": {},
   "source": [
    "High-Wage, High-Growth Jobs\n"
   ]
  },
  {
   "cell_type": "code",
   "execution_count": 64,
   "metadata": {},
   "outputs": [
    {
     "data": {
      "text/plain": [
       "Text(0, 0.5, 'Occupation Title')"
      ]
     },
     "execution_count": 64,
     "metadata": {},
     "output_type": "execute_result"
    },
    {
     "data": {
      "image/png": "[encoded data removed]",
      "text/plain": [
       "<Figure size 1000x600 with 1 Axes>"
      ]
     },
     "metadata": {},
     "output_type": "display_data"
    }
   ],
   "source": [
    "#| echo: false\n",
    "\n",
    "# Filter high growth, high-wage jobs\n",
    "high_value = df2_flat[\n",
    "    (df2_flat['employment_change_percent_202333'] > 20) & \n",
    "    (df2_flat['median_annual_wage_dollars_20241'] > 90000)\n",
    "]\n",
    "\n",
    "# Ascending order of wage\n",
    "high_value_sorted = high_value.sort_values(by='median_annual_wage_dollars_20241', ascending=False)\n",
    "\n",
    "\n",
    "ax = high_value_sorted.plot.barh(\n",
    "    x='2023_national_employment_matrix_title',\n",
    "    y='median_annual_wage_dollars_20241',\n",
    "    color='darkblue',\n",
    "    figsize=(10, 6),\n",
    "    legend=False,\n",
    "    title='High-Wage, High-Growth Jobs'\n",
    ")\n",
    "\n",
    "\n",
    "ax.set_xlabel('Median Annual Wage (2024 USD)', fontsize=12)\n",
    "ax.set_ylabel('Occupation Title', fontsize=12)"
   ]
  },
  {
   "cell_type": "markdown",
   "metadata": {},
   "source": [
    "Looking at occupations that are both rapidly expanding and offer median annual wages above $90,000. These roles such as Computer and Information Research Scientists, Physician Assistants, Nurse Practitioners, and Actuaries reflect the intersection of technological innovation, healthcare expansion, and advanced analytical capabilities. Their combination of strong demand and high earning potential marks them as especially valuable for regional economic strategy. For the City of El Paso, these roles may represent strategic targets for workforce development and higher education alignment particularly where existing institutional capacity (such as UTEP university research programs or medical infrastructure) can be leveraged to support and attract talent in these fields."
   ]
  },
  {
   "cell_type": "markdown",
   "metadata": {},
   "source": [
    "High-Growth, High-Wage Occupations by Sector and Employment Scale"
   ]
  },
  {
   "cell_type": "code",
   "execution_count": 65,
   "metadata": {},
   "outputs": [
    {
     "name": "stderr",
     "output_type": "stream",
     "text": [
      "/Users/cantu/anaconda3/lib/python3.11/site-packages/plotly/express/_core.py:1979: FutureWarning:\n",
      "\n",
      "When grouping with a length-1 list-like, you will need to pass a length-1 tuple to get_group in a future version of pandas. Pass `(name,)` instead of `name` to silence this warning.\n",
      "\n"
     ]
    },
    {
     "data": {
      "application/vnd.plotly.v1+json": {
       "config": {
        "plotlyServerURL": "https://plot.ly"
       },
       "data": [
        {
         "hovertemplate": "<b>%{hovertext}</b><br><br>llm_sector=Insurance<br>employment_change_percent_202333=%{x}<br>median_annual_wage_dollars_20241=%{y}<br>employment_2023=%{marker.size}<extra></extra>",
         "hovertext": [
          "  Actuaries"
         ],
         "legendgroup": "Insurance",
         "marker": {
          "color": "#636efa",
          "size": [
           30.2
          ],
          "sizemode": "area",
          "sizeref": 9.90475,
          "symbol": "circle"
         },
         "mode": "markers",
         "name": "Insurance",
         "orientation": "v",
         "showlegend": true,
         "type": "scatter",
         "x": [
          21.8
         ],
         "xaxis": "x",
         "y": [
          125770
         ],
         "yaxis": "y"
        },
        {
         "hovertemplate": "<b>%{hovertext}</b><br><br>llm_sector=Information Technology<br>employment_change_percent_202333=%{x}<br>median_annual_wage_dollars_20241=%{y}<br>employment_2023=%{marker.size}<extra></extra>",
         "hovertext": [
          "  Computer and information research scientists",
          "  Computer and information systems managers",
          "  Data scientists",
          "  Information security analysts",
          "  Software developers"
         ],
         "legendgroup": "Information Technology",
         "marker": {
          "color": "#EF553B",
          "size": [
           36.6,
           613.5,
           202.9,
           180.7,
           1692.1
          ],
          "sizemode": "area",
          "sizeref": 9.90475,
          "symbol": "circle"
         },
         "mode": "markers",
         "name": "Information Technology",
         "orientation": "v",
         "showlegend": true,
         "type": "scatter",
         "x": [
          25.6,
          17.4,
          36,
          32.7,
          17.9
         ],
         "xaxis": "x",
         "y": [
          140910,
          171200,
          112590,
          124910,
          133080
         ],
         "yaxis": "y"
        },
        {
         "hovertemplate": "<b>%{hovertext}</b><br><br>llm_sector=Healthcare<br>employment_change_percent_202333=%{x}<br>median_annual_wage_dollars_20241=%{y}<br>employment_2023=%{marker.size}<extra></extra>",
         "hovertext": [
          "  Epidemiologists",
          "  Home health and personal care aides",
          "  Massage therapists",
          "  Medical and health services managers",
          "  Medical equipment repairers",
          "  Nurse practitioners",
          "  Occupational therapy assistants",
          "  Physical therapist assistants",
          "  Physician assistants",
          "  Psychiatric technicians",
          "  Speech-language pathologists",
          "  Substance abuse, behavioral disorder, and mental health counselors",
          "  Veterinarians",
          "  Veterinary assistants and laboratory animal caretakers",
          "  Veterinary technologists and technicians"
         ],
         "legendgroup": "Healthcare",
         "marker": {
          "color": "#00cc96",
          "size": [
           11,
           3961.9,
           147.1,
           562.7,
           67,
           292.5,
           47.5,
           108.5,
           153.4,
           124.6,
           180.8,
           449.8,
           88.2,
           118.2,
           125.7
          ],
          "sizemode": "area",
          "sizeref": 9.90475,
          "symbol": "circle"
         },
         "mode": "markers",
         "name": "Healthcare",
         "orientation": "v",
         "showlegend": true,
         "type": "scatter",
         "x": [
          18.8,
          20.7,
          17.7,
          28.5,
          18.4,
          46.3,
          22.3,
          25.4,
          28.5,
          17.1,
          18.4,
          18.8,
          19.1,
          19.4,
          19.3
         ],
         "xaxis": "x",
         "y": [
          83980,
          34900,
          57950,
          117960,
          62630,
          129210,
          68340,
          65510,
          133260,
          42590,
          95410,
          59190,
          125510,
          37320,
          45980
         ],
         "yaxis": "y"
        },
        {
         "hovertemplate": "<b>%{hovertext}</b><br><br>llm_sector=Finance<br>employment_change_percent_202333=%{x}<br>median_annual_wage_dollars_20241=%{y}<br>employment_2023=%{marker.size}<extra></extra>",
         "hovertext": [
          "  Financial examiners",
          "  Personal financial advisors"
         ],
         "legendgroup": "Finance",
         "marker": {
          "color": "#ab63fa",
          "size": [
           65.5,
           321
          ],
          "sizemode": "area",
          "sizeref": 9.90475,
          "symbol": "circle"
         },
         "mode": "markers",
         "name": "Finance",
         "orientation": "v",
         "showlegend": true,
         "type": "scatter",
         "x": [
          21,
          17.1
         ],
         "xaxis": "x",
         "y": [
          90400,
          102140
         ],
         "yaxis": "y"
        },
        {
         "hovertemplate": "<b>%{hovertext}</b><br><br>llm_sector=Education<br>employment_change_percent_202333=%{x}<br>median_annual_wage_dollars_20241=%{y}<br>employment_2023=%{marker.size}<extra></extra>",
         "hovertext": [
          "  Health specialties teachers, postsecondary",
          "  Nursing instructors and teachers, postsecondary"
         ],
         "legendgroup": "Education",
         "marker": {
          "color": "#FFA15A",
          "size": [
           284.2,
           89.9
          ],
          "sizemode": "area",
          "sizeref": 9.90475,
          "symbol": "circle"
         },
         "mode": "markers",
         "name": "Education",
         "orientation": "v",
         "showlegend": true,
         "type": "scatter",
         "x": [
          18.8,
          17.9
         ],
         "xaxis": "x",
         "y": [
          105620,
          79940
         ],
         "yaxis": "y"
        },
        {
         "hovertemplate": "<b>%{hovertext}</b><br><br>llm_sector=Manufacturing<br>employment_change_percent_202333=%{x}<br>median_annual_wage_dollars_20241=%{y}<br>employment_2023=%{marker.size}<extra></extra>",
         "hovertext": [
          "  Industrial machinery mechanics"
         ],
         "legendgroup": "Manufacturing",
         "marker": {
          "color": "#19d3f3",
          "size": [
           429.5
          ],
          "sizemode": "area",
          "sizeref": 9.90475,
          "symbol": "circle"
         },
         "mode": "markers",
         "name": "Manufacturing",
         "orientation": "v",
         "showlegend": true,
         "type": "scatter",
         "x": [
          17.2
         ],
         "xaxis": "x",
         "y": [
          63760
         ],
         "yaxis": "y"
        },
        {
         "hovertemplate": "<b>%{hovertext}</b><br><br>llm_sector=Transportation<br>employment_change_percent_202333=%{x}<br>median_annual_wage_dollars_20241=%{y}<br>employment_2023=%{marker.size}<extra></extra>",
         "hovertext": [
          "  Logisticians"
         ],
         "legendgroup": "Transportation",
         "marker": {
          "color": "#FF6692",
          "size": [
           237.1
          ],
          "sizemode": "area",
          "sizeref": 9.90475,
          "symbol": "circle"
         },
         "mode": "markers",
         "name": "Transportation",
         "orientation": "v",
         "showlegend": true,
         "type": "scatter",
         "x": [
          19.3
         ],
         "xaxis": "x",
         "y": [
          80880
         ],
         "yaxis": "y"
        },
        {
         "hovertemplate": "<b>%{hovertext}</b><br><br>llm_sector=Professional Services<br>employment_change_percent_202333=%{x}<br>median_annual_wage_dollars_20241=%{y}<br>employment_2023=%{marker.size}<extra></extra>",
         "hovertext": [
          "  Operations research analysts"
         ],
         "legendgroup": "Professional Services",
         "marker": {
          "color": "#B6E880",
          "size": [
           123.3
          ],
          "sizemode": "area",
          "sizeref": 9.90475,
          "symbol": "circle"
         },
         "mode": "markers",
         "name": "Professional Services",
         "orientation": "v",
         "showlegend": true,
         "type": "scatter",
         "x": [
          23
         ],
         "xaxis": "x",
         "y": [
          91290
         ],
         "yaxis": "y"
        },
        {
         "hovertemplate": "<b>%{hovertext}</b><br><br>llm_sector=Energy<br>employment_change_percent_202333=%{x}<br>median_annual_wage_dollars_20241=%{y}<br>employment_2023=%{marker.size}<extra></extra>",
         "hovertext": [
          "  Solar photovoltaic installers",
          "  Wind turbine service technicians"
         ],
         "legendgroup": "Energy",
         "marker": {
          "color": "#FF97FF",
          "size": [
           25,
           11.4
          ],
          "sizemode": "area",
          "sizeref": 9.90475,
          "symbol": "circle"
         },
         "mode": "markers",
         "name": "Energy",
         "orientation": "v",
         "showlegend": true,
         "type": "scatter",
         "x": [
          48,
          60.1
         ],
         "xaxis": "x",
         "y": [
          51860,
          62580
         ],
         "yaxis": "y"
        }
       ],
       "layout": {
        "legend": {
         "itemsizing": "constant",
         "title": {
          "text": "Industry Sector"
         },
         "tracegroupgap": 0
        },
        "template": {
         "data": {
          "bar": [
           {
            "error_x": {
             "color": "#2a3f5f"
            },
            "error_y": {
             "color": "#2a3f5f"
            },
            "marker": {
             "line": {
              "color": "#E5ECF6",
              "width": 0.5
             },
             "pattern": {
              "fillmode": "overlay",
              "size": 10,
              "solidity": 0.2
             }
            },
            "type": "bar"
           }
          ],
          "barpolar": [
           {
            "marker": {
             "line": {
              "color": "#E5ECF6",
              "width": 0.5
             },
             "pattern": {
              "fillmode": "overlay",
              "size": 10,
              "solidity": 0.2
             }
            },
            "type": "barpolar"
           }
          ],
          "carpet": [
           {
            "aaxis": {
             "endlinecolor": "#2a3f5f",
             "gridcolor": "white",
             "linecolor": "white",
             "minorgridcolor": "white",
             "startlinecolor": "#2a3f5f"
            },
            "baxis": {
             "endlinecolor": "#2a3f5f",
             "gridcolor": "white",
             "linecolor": "white",
             "minorgridcolor": "white",
             "startlinecolor": "#2a3f5f"
            },
            "type": "carpet"
           }
          ],
          "choropleth": [
           {
            "colorbar": {
             "outlinewidth": 0,
             "ticks": ""
            },
            "type": "choropleth"
           }
          ],
          "contour": [
           {
            "colorbar": {
             "outlinewidth": 0,
             "ticks": ""
            },
            "colorscale": [
             [
              0,
              "#0d0887"
             ],
             [
              0.1111111111111111,
              "#46039f"
             ],
             [
              0.2222222222222222,
              "#7201a8"
             ],
             [
              0.3333333333333333,
              "#9c179e"
             ],
             [
              0.4444444444444444,
              "#bd3786"
             ],
             [
              0.5555555555555556,
              "#d8576b"
             ],
             [
              0.6666666666666666,
              "#ed7953"
             ],
             [
              0.7777777777777778,
              "#fb9f3a"
             ],
             [
              0.8888888888888888,
              "#fdca26"
             ],
             [
              1,
              "#f0f921"
             ]
            ],
            "type": "contour"
           }
          ],
          "contourcarpet": [
           {
            "colorbar": {
             "outlinewidth": 0,
             "ticks": ""
            },
            "type": "contourcarpet"
           }
          ],
          "heatmap": [
           {
            "colorbar": {
             "outlinewidth": 0,
             "ticks": ""
            },
            "colorscale": [
             [
              0,
              "#0d0887"
             ],
             [
              0.1111111111111111,
              "#46039f"
             ],
             [
              0.2222222222222222,
              "#7201a8"
             ],
             [
              0.3333333333333333,
              "#9c179e"
             ],
             [
              0.4444444444444444,
              "#bd3786"
             ],
             [
              0.5555555555555556,
              "#d8576b"
             ],
             [
              0.6666666666666666,
              "#ed7953"
             ],
             [
              0.7777777777777778,
              "#fb9f3a"
             ],
             [
              0.8888888888888888,
              "#fdca26"
             ],
             [
              1,
              "#f0f921"
             ]
            ],
            "type": "heatmap"
           }
          ],
          "heatmapgl": [
           {
            "colorbar": {
             "outlinewidth": 0,
             "ticks": ""
            },
            "colorscale": [
             [
              0,
              "#0d0887"
             ],
             [
              0.1111111111111111,
              "#46039f"
             ],
             [
              0.2222222222222222,
              "#7201a8"
             ],
             [
              0.3333333333333333,
              "#9c179e"
             ],
             [
              0.4444444444444444,
              "#bd3786"
             ],
             [
              0.5555555555555556,
              "#d8576b"
             ],
             [
              0.6666666666666666,
              "#ed7953"
             ],
             [
              0.7777777777777778,
              "#fb9f3a"
             ],
             [
              0.8888888888888888,
              "#fdca26"
             ],
             [
              1,
              "#f0f921"
             ]
            ],
            "type": "heatmapgl"
           }
          ],
          "histogram": [
           {
            "marker": {
             "pattern": {
              "fillmode": "overlay",
              "size": 10,
              "solidity": 0.2
             }
            },
            "type": "histogram"
           }
          ],
          "histogram2d": [
           {
            "colorbar": {
             "outlinewidth": 0,
             "ticks": ""
            },
            "colorscale": [
             [
              0,
              "#0d0887"
             ],
             [
              0.1111111111111111,
              "#46039f"
             ],
             [
              0.2222222222222222,
              "#7201a8"
             ],
             [
              0.3333333333333333,
              "#9c179e"
             ],
             [
              0.4444444444444444,
              "#bd3786"
             ],
             [
              0.5555555555555556,
              "#d8576b"
             ],
             [
              0.6666666666666666,
              "#ed7953"
             ],
             [
              0.7777777777777778,
              "#fb9f3a"
             ],
             [
              0.8888888888888888,
              "#fdca26"
             ],
             [
              1,
              "#f0f921"
             ]
            ],
            "type": "histogram2d"
           }
          ],
          "histogram2dcontour": [
           {
            "colorbar": {
             "outlinewidth": 0,
             "ticks": ""
            },
            "colorscale": [
             [
              0,
              "#0d0887"
             ],
             [
              0.1111111111111111,
              "#46039f"
             ],
             [
              0.2222222222222222,
              "#7201a8"
             ],
             [
              0.3333333333333333,
              "#9c179e"
             ],
             [
              0.4444444444444444,
              "#bd3786"
             ],
             [
              0.5555555555555556,
              "#d8576b"
             ],
             [
              0.6666666666666666,
              "#ed7953"
             ],
             [
              0.7777777777777778,
              "#fb9f3a"
             ],
             [
              0.8888888888888888,
              "#fdca26"
             ],
             [
              1,
              "#f0f921"
             ]
            ],
            "type": "histogram2dcontour"
           }
          ],
          "mesh3d": [
           {
            "colorbar": {
             "outlinewidth": 0,
             "ticks": ""
            },
            "type": "mesh3d"
           }
          ],
          "parcoords": [
           {
            "line": {
             "colorbar": {
              "outlinewidth": 0,
              "ticks": ""
             }
            },
            "type": "parcoords"
           }
          ],
          "pie": [
           {
            "automargin": true,
            "type": "pie"
           }
          ],
          "scatter": [
           {
            "fillpattern": {
             "fillmode": "overlay",
             "size": 10,
             "solidity": 0.2
            },
            "type": "scatter"
           }
          ],
          "scatter3d": [
           {
            "line": {
             "colorbar": {
              "outlinewidth": 0,
              "ticks": ""
             }
            },
            "marker": {
             "colorbar": {
              "outlinewidth": 0,
              "ticks": ""
             }
            },
            "type": "scatter3d"
           }
          ],
          "scattercarpet": [
           {
            "marker": {
             "colorbar": {
              "outlinewidth": 0,
              "ticks": ""
             }
            },
            "type": "scattercarpet"
           }
          ],
          "scattergeo": [
           {
            "marker": {
             "colorbar": {
              "outlinewidth": 0,
              "ticks": ""
             }
            },
            "type": "scattergeo"
           }
          ],
          "scattergl": [
           {
            "marker": {
             "colorbar": {
              "outlinewidth": 0,
              "ticks": ""
             }
            },
            "type": "scattergl"
           }
          ],
          "scattermapbox": [
           {
            "marker": {
             "colorbar": {
              "outlinewidth": 0,
              "ticks": ""
             }
            },
            "type": "scattermapbox"
           }
          ],
          "scatterpolar": [
           {
            "marker": {
             "colorbar": {
              "outlinewidth": 0,
              "ticks": ""
             }
            },
            "type": "scatterpolar"
           }
          ],
          "scatterpolargl": [
           {
            "marker": {
             "colorbar": {
              "outlinewidth": 0,
              "ticks": ""
             }
            },
            "type": "scatterpolargl"
           }
          ],
          "scatterternary": [
           {
            "marker": {
             "colorbar": {
              "outlinewidth": 0,
              "ticks": ""
             }
            },
            "type": "scatterternary"
           }
          ],
          "surface": [
           {
            "colorbar": {
             "outlinewidth": 0,
             "ticks": ""
            },
            "colorscale": [
             [
              0,
              "#0d0887"
             ],
             [
              0.1111111111111111,
              "#46039f"
             ],
             [
              0.2222222222222222,
              "#7201a8"
             ],
             [
              0.3333333333333333,
              "#9c179e"
             ],
             [
              0.4444444444444444,
              "#bd3786"
             ],
             [
              0.5555555555555556,
              "#d8576b"
             ],
             [
              0.6666666666666666,
              "#ed7953"
             ],
             [
              0.7777777777777778,
              "#fb9f3a"
             ],
             [
              0.8888888888888888,
              "#fdca26"
             ],
             [
              1,
              "#f0f921"
             ]
            ],
            "type": "surface"
           }
          ],
          "table": [
           {
            "cells": {
             "fill": {
              "color": "#EBF0F8"
             },
             "line": {
              "color": "white"
             }
            },
            "header": {
             "fill": {
              "color": "#C8D4E3"
             },
             "line": {
              "color": "white"
             }
            },
            "type": "table"
           }
          ]
         },
         "layout": {
          "annotationdefaults": {
           "arrowcolor": "#2a3f5f",
           "arrowhead": 0,
           "arrowwidth": 1
          },
          "autotypenumbers": "strict",
          "coloraxis": {
           "colorbar": {
            "outlinewidth": 0,
            "ticks": ""
           }
          },
          "colorscale": {
           "diverging": [
            [
             0,
             "#8e0152"
            ],
            [
             0.1,
             "#c51b7d"
            ],
            [
             0.2,
             "#de77ae"
            ],
            [
             0.3,
             "#f1b6da"
            ],
            [
             0.4,
             "#fde0ef"
            ],
            [
             0.5,
             "#f7f7f7"
            ],
            [
             0.6,
             "#e6f5d0"
            ],
            [
             0.7,
             "#b8e186"
            ],
            [
             0.8,
             "#7fbc41"
            ],
            [
             0.9,
             "#4d9221"
            ],
            [
             1,
             "#276419"
            ]
           ],
           "sequential": [
            [
             0,
             "#0d0887"
            ],
            [
             0.1111111111111111,
             "#46039f"
            ],
            [
             0.2222222222222222,
             "#7201a8"
            ],
            [
             0.3333333333333333,
             "#9c179e"
            ],
            [
             0.4444444444444444,
             "#bd3786"
            ],
            [
             0.5555555555555556,
             "#d8576b"
            ],
            [
             0.6666666666666666,
             "#ed7953"
            ],
            [
             0.7777777777777778,
             "#fb9f3a"
            ],
            [
             0.8888888888888888,
             "#fdca26"
            ],
            [
             1,
             "#f0f921"
            ]
           ],
           "sequentialminus": [
            [
             0,
             "#0d0887"
            ],
            [
             0.1111111111111111,
             "#46039f"
            ],
            [
             0.2222222222222222,
             "#7201a8"
            ],
            [
             0.3333333333333333,
             "#9c179e"
            ],
            [
             0.4444444444444444,
             "#bd3786"
            ],
            [
             0.5555555555555556,
             "#d8576b"
            ],
            [
             0.6666666666666666,
             "#ed7953"
            ],
            [
             0.7777777777777778,
             "#fb9f3a"
            ],
            [
             0.8888888888888888,
             "#fdca26"
            ],
            [
             1,
             "#f0f921"
            ]
           ]
          },
          "colorway": [
           "#636efa",
           "#EF553B",
           "#00cc96",
           "#ab63fa",
           "#FFA15A",
           "#19d3f3",
           "#FF6692",
           "#B6E880",
           "#FF97FF",
           "#FECB52"
          ],
          "font": {
           "color": "#2a3f5f"
          },
          "geo": {
           "bgcolor": "white",
           "lakecolor": "white",
           "landcolor": "#E5ECF6",
           "showlakes": true,
           "showland": true,
           "subunitcolor": "white"
          },
          "hoverlabel": {
           "align": "left"
          },
          "hovermode": "closest",
          "mapbox": {
           "style": "light"
          },
          "paper_bgcolor": "white",
          "plot_bgcolor": "#E5ECF6",
          "polar": {
           "angularaxis": {
            "gridcolor": "white",
            "linecolor": "white",
            "ticks": ""
           },
           "bgcolor": "#E5ECF6",
           "radialaxis": {
            "gridcolor": "white",
            "linecolor": "white",
            "ticks": ""
           }
          },
          "scene": {
           "xaxis": {
            "backgroundcolor": "#E5ECF6",
            "gridcolor": "white",
            "gridwidth": 2,
            "linecolor": "white",
            "showbackground": true,
            "ticks": "",
            "zerolinecolor": "white"
           },
           "yaxis": {
            "backgroundcolor": "#E5ECF6",
            "gridcolor": "white",
            "gridwidth": 2,
            "linecolor": "white",
            "showbackground": true,
            "ticks": "",
            "zerolinecolor": "white"
           },
           "zaxis": {
            "backgroundcolor": "#E5ECF6",
            "gridcolor": "white",
            "gridwidth": 2,
            "linecolor": "white",
            "showbackground": true,
            "ticks": "",
            "zerolinecolor": "white"
           }
          },
          "shapedefaults": {
           "line": {
            "color": "#2a3f5f"
           }
          },
          "ternary": {
           "aaxis": {
            "gridcolor": "white",
            "linecolor": "white",
            "ticks": ""
           },
           "baxis": {
            "gridcolor": "white",
            "linecolor": "white",
            "ticks": ""
           },
           "bgcolor": "#E5ECF6",
           "caxis": {
            "gridcolor": "white",
            "linecolor": "white",
            "ticks": ""
           }
          },
          "title": {
           "x": 0.05
          },
          "xaxis": {
           "automargin": true,
           "gridcolor": "white",
           "linecolor": "white",
           "ticks": "",
           "title": {
            "standoff": 15
           },
           "zerolinecolor": "white",
           "zerolinewidth": 2
          },
          "yaxis": {
           "automargin": true,
           "gridcolor": "white",
           "linecolor": "white",
           "ticks": "",
           "title": {
            "standoff": 15
           },
           "zerolinecolor": "white",
           "zerolinewidth": 2
          }
         }
        },
        "title": {
         "text": "Wage vs Growth vs Employment Size"
        },
        "xaxis": {
         "anchor": "y",
         "domain": [
          0,
          1
         ],
         "title": {
          "text": "Employment Growth (%)"
         }
        },
        "yaxis": {
         "anchor": "x",
         "domain": [
          0,
          1
         ],
         "title": {
          "text": "Median Annual Wage (2024 USD)"
         }
        }
       }
      }
     },
     "metadata": {},
     "output_type": "display_data"
    }
   ],
   "source": [
    "#| output: false\n",
    "#| echo: false\n",
    "\n",
    "import plotly.express as px\n",
    "\n",
    "fig = px.scatter(\n",
    "    df2_flat,\n",
    "    x='employment_change_percent_202333',\n",
    "    y='median_annual_wage_dollars_20241',\n",
    "    size='employment_2023',\n",
    "    color='llm_sector',\n",
    "    hover_name='2023_national_employment_matrix_title',\n",
    "    title='Wage vs Growth vs Employment Size'\n",
    ")\n",
    "\n",
    "fig.update_layout(\n",
    "    xaxis_title='Employment Growth (%)',\n",
    "    yaxis_title='Median Annual Wage (2024 USD)',\n",
    "    legend_title='Industry Sector'\n",
    ")\n",
    "\n",
    "fig.show()"
   ]
  },
  {
   "cell_type": "markdown",
   "metadata": {},
   "source": [
    "The bubble chart, gives a clear snapshot of which jobs are growing the fastest, pay the most, and already have a strong presence in the workforce. Each bubble shows an occupation—its position tells us how fast it’s growing and how much it pays, the size shows how many people already work in that job, and the color ties it to a broader industry. You can see that tech and healthcare roles tend to land in the sweet spot: growing quickly and paying well. Some lower wage jobs, in healthcare and manufacturing, still show strong growth and big employment numbers, which means they’re essential. For El Paso, this helps point out where the city could focus—either by training people for high-growth, high-wage careers or by supporting the backbone jobs that keep the economy running."
   ]
  },
  {
   "cell_type": "markdown",
   "metadata": {},
   "source": [
    "Sector → Industry → Occupation: Job Growth Hierarchy"
   ]
  },
  {
   "cell_type": "code",
   "execution_count": 68,
   "metadata": {},
   "outputs": [
    {
     "data": {
      "application/vnd.plotly.v1+json": {
       "config": {
        "plotlyServerURL": "https://plot.ly"
       },
       "data": [
        {
         "branchvalues": "total",
         "domain": {
          "x": [
           0,
           1
          ],
          "y": [
           0,
           1
          ]
         },
         "hovertemplate": "labels=%{label}<br>employment_change_numeric_202333=%{value}<br>parent=%{parent}<br>id=%{id}<extra></extra>",
         "ids": [
          "Insurance/Insurance carriers/  Actuaries",
          "Information Technology/Software publishers/  Computer and information research scientists",
          "Information Technology/Software publishers/  Computer and information systems managers",
          "Information Technology/Software publishers/  Data scientists",
          "Healthcare/Research and development in the physical, engineering, and life sciences/  Epidemiologists",
          "Finance/Other nondepository credit intermediation/  Financial examiners",
          "Education/Colleges, universities, and professional schools/  Health specialties teachers, postsecondary",
          "Healthcare/Continuing care retirement communities and assisted living facilities for the elderly/  Home health and personal care aides",
          "Manufacturing/Coal mining/  Industrial machinery mechanics",
          "Information Technology/Finance and insurance/  Information security analysts",
          "Transportation/Warehousing and storage/  Logisticians",
          "Healthcare/Offices of chiropractors/  Massage therapists",
          "Healthcare/Hospitals/  Medical and health services managers",
          "Healthcare/Professional and commercial equipment and supplies merchant wholesalers/  Medical equipment repairers",
          "Healthcare/Offices of physicians/  Nurse practitioners",
          "Education/General medical and surgical hospitals/  Nursing instructors and teachers, postsecondary",
          "Healthcare/Offices of physical, occupational and speech therapists, and audiologists/  Occupational therapy assistants",
          "Professional Services/Management, scientific, and technical consulting services/  Operations research analysts",
          "Finance/Credit intermediation and related activities (5221,3)/  Personal financial advisors",
          "Healthcare/Offices of physical, occupational and speech therapists, and audiologists/  Physical therapist assistants",
          "Healthcare/Offices of physicians/  Physician assistants",
          "Healthcare/Offices of mental health practitioners (except physicians)/  Psychiatric technicians",
          "Information Technology/Custom computer programming services/  Software developers",
          "Energy/Solar electric power generation/  Solar photovoltaic installers",
          "Healthcare/Outpatient care centers/  Speech-language pathologists",
          "Healthcare/Research and development in the social sciences and humanities/  Substance abuse, behavioral disorder, and mental health counselors",
          "Healthcare/None/  Veterinarians",
          "Healthcare/None/  Veterinary assistants and laboratory animal caretakers",
          "Healthcare/None/  Veterinary technologists and technicians",
          "Energy/Wind electric power generation/  Wind turbine service technicians",
          "Manufacturing/Coal mining",
          "Education/Colleges, universities, and professional schools",
          "Healthcare/Continuing care retirement communities and assisted living facilities for the elderly",
          "Finance/Credit intermediation and related activities (5221,3)",
          "Information Technology/Custom computer programming services",
          "Information Technology/Finance and insurance",
          "Education/General medical and surgical hospitals",
          "Healthcare/Hospitals",
          "Insurance/Insurance carriers",
          "Professional Services/Management, scientific, and technical consulting services",
          "Healthcare/None",
          "Healthcare/Offices of chiropractors",
          "Healthcare/Offices of mental health practitioners (except physicians)",
          "Healthcare/Offices of physical, occupational and speech therapists, and audiologists",
          "Healthcare/Offices of physicians",
          "Finance/Other nondepository credit intermediation",
          "Healthcare/Outpatient care centers",
          "Healthcare/Professional and commercial equipment and supplies merchant wholesalers",
          "Healthcare/Research and development in the physical, engineering, and life sciences",
          "Healthcare/Research and development in the social sciences and humanities",
          "Information Technology/Software publishers",
          "Energy/Solar electric power generation",
          "Transportation/Warehousing and storage",
          "Energy/Wind electric power generation",
          "Education",
          "Energy",
          "Finance",
          "Healthcare",
          "Information Technology",
          "Insurance",
          "Manufacturing",
          "Professional Services",
          "Transportation"
         ],
         "labels": [
          "  Actuaries",
          "  Computer and information research scientists",
          "  Computer and information systems managers",
          "  Data scientists",
          "  Epidemiologists",
          "  Financial examiners",
          "  Health specialties teachers, postsecondary",
          "  Home health and personal care aides",
          "  Industrial machinery mechanics",
          "  Information security analysts",
          "  Logisticians",
          "  Massage therapists",
          "  Medical and health services managers",
          "  Medical equipment repairers",
          "  Nurse practitioners",
          "  Nursing instructors and teachers, postsecondary",
          "  Occupational therapy assistants",
          "  Operations research analysts",
          "  Personal financial advisors",
          "  Physical therapist assistants",
          "  Physician assistants",
          "  Psychiatric technicians",
          "  Software developers",
          "  Solar photovoltaic installers",
          "  Speech-language pathologists",
          "  Substance abuse, behavioral disorder, and mental health counselors",
          "  Veterinarians",
          "  Veterinary assistants and laboratory animal caretakers",
          "  Veterinary technologists and technicians",
          "  Wind turbine service technicians",
          "Coal mining",
          "Colleges, universities, and professional schools",
          "Continuing care retirement communities and assisted living facilities for the elderly",
          "Credit intermediation and related activities (5221,3)",
          "Custom computer programming services",
          "Finance and insurance",
          "General medical and surgical hospitals",
          "Hospitals",
          "Insurance carriers",
          "Management, scientific, and technical consulting services",
          "None",
          "Offices of chiropractors",
          "Offices of mental health practitioners (except physicians)",
          "Offices of physical, occupational and speech therapists, and audiologists",
          "Offices of physicians",
          "Other nondepository credit intermediation",
          "Outpatient care centers",
          "Professional and commercial equipment and supplies merchant wholesalers",
          "Research and development in the physical, engineering, and life sciences",
          "Research and development in the social sciences and humanities",
          "Software publishers",
          "Solar electric power generation",
          "Warehousing and storage",
          "Wind electric power generation",
          "Education",
          "Energy",
          "Finance",
          "Healthcare",
          "Information Technology",
          "Insurance",
          "Manufacturing",
          "Professional Services",
          "Transportation"
         ],
         "name": "",
         "parents": [
          "Insurance/Insurance carriers",
          "Information Technology/Software publishers",
          "Information Technology/Software publishers",
          "Information Technology/Software publishers",
          "Healthcare/Research and development in the physical, engineering, and life sciences",
          "Finance/Other nondepository credit intermediation",
          "Education/Colleges, universities, and professional schools",
          "Healthcare/Continuing care retirement communities and assisted living facilities for the elderly",
          "Manufacturing/Coal mining",
          "Information Technology/Finance and insurance",
          "Transportation/Warehousing and storage",
          "Healthcare/Offices of chiropractors",
          "Healthcare/Hospitals",
          "Healthcare/Professional and commercial equipment and supplies merchant wholesalers",
          "Healthcare/Offices of physicians",
          "Education/General medical and surgical hospitals",
          "Healthcare/Offices of physical, occupational and speech therapists, and audiologists",
          "Professional Services/Management, scientific, and technical consulting services",
          "Finance/Credit intermediation and related activities (5221,3)",
          "Healthcare/Offices of physical, occupational and speech therapists, and audiologists",
          "Healthcare/Offices of physicians",
          "Healthcare/Offices of mental health practitioners (except physicians)",
          "Information Technology/Custom computer programming services",
          "Energy/Solar electric power generation",
          "Healthcare/Outpatient care centers",
          "Healthcare/Research and development in the social sciences and humanities",
          "Healthcare/None",
          "Healthcare/None",
          "Healthcare/None",
          "Energy/Wind electric power generation",
          "Manufacturing",
          "Education",
          "Healthcare",
          "Finance",
          "Information Technology",
          "Information Technology",
          "Education",
          "Healthcare",
          "Insurance",
          "Professional Services",
          "Healthcare",
          "Healthcare",
          "Healthcare",
          "Healthcare",
          "Healthcare",
          "Finance",
          "Healthcare",
          "Healthcare",
          "Healthcare",
          "Healthcare",
          "Information Technology",
          "Energy",
          "Transportation",
          "Energy",
          "",
          "",
          "",
          "",
          "",
          "",
          "",
          "",
          ""
         ],
         "type": "sunburst",
         "values": [
          6.6,
          9.4,
          106.9,
          73.1,
          2.1,
          13.8,
          53.3,
          820.5,
          73.8,
          59.1,
          45.8,
          26,
          160.6,
          12.3,
          135.5,
          16.1,
          10.6,
          28.3,
          55,
          27.5,
          43.7,
          21.3,
          303.7,
          12,
          33.3,
          84.5,
          16.8,
          22.9,
          24.3,
          6.8,
          73.8,
          53.3,
          820.5,
          55,
          303.7,
          59.1,
          16.1,
          160.6,
          6.6,
          28.3,
          64,
          26,
          21.3,
          38.1,
          179.2,
          13.8,
          33.3,
          12.3,
          2.1,
          84.5,
          189.4,
          12,
          45.8,
          6.8,
          69.4,
          18.8,
          68.8,
          1441.9,
          552.2,
          6.6,
          73.8,
          28.3,
          45.8
         ]
        }
       ],
       "layout": {
        "height": 600,
        "legend": {
         "tracegroupgap": 0
        },
        "template": {
         "data": {
          "bar": [
           {
            "error_x": {
             "color": "#2a3f5f"
            },
            "error_y": {
             "color": "#2a3f5f"
            },
            "marker": {
             "line": {
              "color": "#E5ECF6",
              "width": 0.5
             },
             "pattern": {
              "fillmode": "overlay",
              "size": 10,
              "solidity": 0.2
             }
            },
            "type": "bar"
           }
          ],
          "barpolar": [
           {
            "marker": {
             "line": {
              "color": "#E5ECF6",
              "width": 0.5
             },
             "pattern": {
              "fillmode": "overlay",
              "size": 10,
              "solidity": 0.2
             }
            },
            "type": "barpolar"
           }
          ],
          "carpet": [
           {
            "aaxis": {
             "endlinecolor": "#2a3f5f",
             "gridcolor": "white",
             "linecolor": "white",
             "minorgridcolor": "white",
             "startlinecolor": "#2a3f5f"
            },
            "baxis": {
             "endlinecolor": "#2a3f5f",
             "gridcolor": "white",
             "linecolor": "white",
             "minorgridcolor": "white",
             "startlinecolor": "#2a3f5f"
            },
            "type": "carpet"
           }
          ],
          "choropleth": [
           {
            "colorbar": {
             "outlinewidth": 0,
             "ticks": ""
            },
            "type": "choropleth"
           }
          ],
          "contour": [
           {
            "colorbar": {
             "outlinewidth": 0,
             "ticks": ""
            },
            "colorscale": [
             [
              0,
              "#0d0887"
             ],
             [
              0.1111111111111111,
              "#46039f"
             ],
             [
              0.2222222222222222,
              "#7201a8"
             ],
             [
              0.3333333333333333,
              "#9c179e"
             ],
             [
              0.4444444444444444,
              "#bd3786"
             ],
             [
              0.5555555555555556,
              "#d8576b"
             ],
             [
              0.6666666666666666,
              "#ed7953"
             ],
             [
              0.7777777777777778,
              "#fb9f3a"
             ],
             [
              0.8888888888888888,
              "#fdca26"
             ],
             [
              1,
              "#f0f921"
             ]
            ],
            "type": "contour"
           }
          ],
          "contourcarpet": [
           {
            "colorbar": {
             "outlinewidth": 0,
             "ticks": ""
            },
            "type": "contourcarpet"
           }
          ],
          "heatmap": [
           {
            "colorbar": {
             "outlinewidth": 0,
             "ticks": ""
            },
            "colorscale": [
             [
              0,
              "#0d0887"
             ],
             [
              0.1111111111111111,
              "#46039f"
             ],
             [
              0.2222222222222222,
              "#7201a8"
             ],
             [
              0.3333333333333333,
              "#9c179e"
             ],
             [
              0.4444444444444444,
              "#bd3786"
             ],
             [
              0.5555555555555556,
              "#d8576b"
             ],
             [
              0.6666666666666666,
              "#ed7953"
             ],
             [
              0.7777777777777778,
              "#fb9f3a"
             ],
             [
              0.8888888888888888,
              "#fdca26"
             ],
             [
              1,
              "#f0f921"
             ]
            ],
            "type": "heatmap"
           }
          ],
          "heatmapgl": [
           {
            "colorbar": {
             "outlinewidth": 0,
             "ticks": ""
            },
            "colorscale": [
             [
              0,
              "#0d0887"
             ],
             [
              0.1111111111111111,
              "#46039f"
             ],
             [
              0.2222222222222222,
              "#7201a8"
             ],
             [
              0.3333333333333333,
              "#9c179e"
             ],
             [
              0.4444444444444444,
              "#bd3786"
             ],
             [
              0.5555555555555556,
              "#d8576b"
             ],
             [
              0.6666666666666666,
              "#ed7953"
             ],
             [
              0.7777777777777778,
              "#fb9f3a"
             ],
             [
              0.8888888888888888,
              "#fdca26"
             ],
             [
              1,
              "#f0f921"
             ]
            ],
            "type": "heatmapgl"
           }
          ],
          "histogram": [
           {
            "marker": {
             "pattern": {
              "fillmode": "overlay",
              "size": 10,
              "solidity": 0.2
             }
            },
            "type": "histogram"
           }
          ],
          "histogram2d": [
           {
            "colorbar": {
             "outlinewidth": 0,
             "ticks": ""
            },
            "colorscale": [
             [
              0,
              "#0d0887"
             ],
             [
              0.1111111111111111,
              "#46039f"
             ],
             [
              0.2222222222222222,
              "#7201a8"
             ],
             [
              0.3333333333333333,
              "#9c179e"
             ],
             [
              0.4444444444444444,
              "#bd3786"
             ],
             [
              0.5555555555555556,
              "#d8576b"
             ],
             [
              0.6666666666666666,
              "#ed7953"
             ],
             [
              0.7777777777777778,
              "#fb9f3a"
             ],
             [
              0.8888888888888888,
              "#fdca26"
             ],
             [
              1,
              "#f0f921"
             ]
            ],
            "type": "histogram2d"
           }
          ],
          "histogram2dcontour": [
           {
            "colorbar": {
             "outlinewidth": 0,
             "ticks": ""
            },
            "colorscale": [
             [
              0,
              "#0d0887"
             ],
             [
              0.1111111111111111,
              "#46039f"
             ],
             [
              0.2222222222222222,
              "#7201a8"
             ],
             [
              0.3333333333333333,
              "#9c179e"
             ],
             [
              0.4444444444444444,
              "#bd3786"
             ],
             [
              0.5555555555555556,
              "#d8576b"
             ],
             [
              0.6666666666666666,
              "#ed7953"
             ],
             [
              0.7777777777777778,
              "#fb9f3a"
             ],
             [
              0.8888888888888888,
              "#fdca26"
             ],
             [
              1,
              "#f0f921"
             ]
            ],
            "type": "histogram2dcontour"
           }
          ],
          "mesh3d": [
           {
            "colorbar": {
             "outlinewidth": 0,
             "ticks": ""
            },
            "type": "mesh3d"
           }
          ],
          "parcoords": [
           {
            "line": {
             "colorbar": {
              "outlinewidth": 0,
              "ticks": ""
             }
            },
            "type": "parcoords"
           }
          ],
          "pie": [
           {
            "automargin": true,
            "type": "pie"
           }
          ],
          "scatter": [
           {
            "fillpattern": {
             "fillmode": "overlay",
             "size": 10,
             "solidity": 0.2
            },
            "type": "scatter"
           }
          ],
          "scatter3d": [
           {
            "line": {
             "colorbar": {
              "outlinewidth": 0,
              "ticks": ""
             }
            },
            "marker": {
             "colorbar": {
              "outlinewidth": 0,
              "ticks": ""
             }
            },
            "type": "scatter3d"
           }
          ],
          "scattercarpet": [
           {
            "marker": {
             "colorbar": {
              "outlinewidth": 0,
              "ticks": ""
             }
            },
            "type": "scattercarpet"
           }
          ],
          "scattergeo": [
           {
            "marker": {
             "colorbar": {
              "outlinewidth": 0,
              "ticks": ""
             }
            },
            "type": "scattergeo"
           }
          ],
          "scattergl": [
           {
            "marker": {
             "colorbar": {
              "outlinewidth": 0,
              "ticks": ""
             }
            },
            "type": "scattergl"
           }
          ],
          "scattermapbox": [
           {
            "marker": {
             "colorbar": {
              "outlinewidth": 0,
              "ticks": ""
             }
            },
            "type": "scattermapbox"
           }
          ],
          "scatterpolar": [
           {
            "marker": {
             "colorbar": {
              "outlinewidth": 0,
              "ticks": ""
             }
            },
            "type": "scatterpolar"
           }
          ],
          "scatterpolargl": [
           {
            "marker": {
             "colorbar": {
              "outlinewidth": 0,
              "ticks": ""
             }
            },
            "type": "scatterpolargl"
           }
          ],
          "scatterternary": [
           {
            "marker": {
             "colorbar": {
              "outlinewidth": 0,
              "ticks": ""
             }
            },
            "type": "scatterternary"
           }
          ],
          "surface": [
           {
            "colorbar": {
             "outlinewidth": 0,
             "ticks": ""
            },
            "colorscale": [
             [
              0,
              "#0d0887"
             ],
             [
              0.1111111111111111,
              "#46039f"
             ],
             [
              0.2222222222222222,
              "#7201a8"
             ],
             [
              0.3333333333333333,
              "#9c179e"
             ],
             [
              0.4444444444444444,
              "#bd3786"
             ],
             [
              0.5555555555555556,
              "#d8576b"
             ],
             [
              0.6666666666666666,
              "#ed7953"
             ],
             [
              0.7777777777777778,
              "#fb9f3a"
             ],
             [
              0.8888888888888888,
              "#fdca26"
             ],
             [
              1,
              "#f0f921"
             ]
            ],
            "type": "surface"
           }
          ],
          "table": [
           {
            "cells": {
             "fill": {
              "color": "#EBF0F8"
             },
             "line": {
              "color": "white"
             }
            },
            "header": {
             "fill": {
              "color": "#C8D4E3"
             },
             "line": {
              "color": "white"
             }
            },
            "type": "table"
           }
          ]
         },
         "layout": {
          "annotationdefaults": {
           "arrowcolor": "#2a3f5f",
           "arrowhead": 0,
           "arrowwidth": 1
          },
          "autotypenumbers": "strict",
          "coloraxis": {
           "colorbar": {
            "outlinewidth": 0,
            "ticks": ""
           }
          },
          "colorscale": {
           "diverging": [
            [
             0,
             "#8e0152"
            ],
            [
             0.1,
             "#c51b7d"
            ],
            [
             0.2,
             "#de77ae"
            ],
            [
             0.3,
             "#f1b6da"
            ],
            [
             0.4,
             "#fde0ef"
            ],
            [
             0.5,
             "#f7f7f7"
            ],
            [
             0.6,
             "#e6f5d0"
            ],
            [
             0.7,
             "#b8e186"
            ],
            [
             0.8,
             "#7fbc41"
            ],
            [
             0.9,
             "#4d9221"
            ],
            [
             1,
             "#276419"
            ]
           ],
           "sequential": [
            [
             0,
             "#0d0887"
            ],
            [
             0.1111111111111111,
             "#46039f"
            ],
            [
             0.2222222222222222,
             "#7201a8"
            ],
            [
             0.3333333333333333,
             "#9c179e"
            ],
            [
             0.4444444444444444,
             "#bd3786"
            ],
            [
             0.5555555555555556,
             "#d8576b"
            ],
            [
             0.6666666666666666,
             "#ed7953"
            ],
            [
             0.7777777777777778,
             "#fb9f3a"
            ],
            [
             0.8888888888888888,
             "#fdca26"
            ],
            [
             1,
             "#f0f921"
            ]
           ],
           "sequentialminus": [
            [
             0,
             "#0d0887"
            ],
            [
             0.1111111111111111,
             "#46039f"
            ],
            [
             0.2222222222222222,
             "#7201a8"
            ],
            [
             0.3333333333333333,
             "#9c179e"
            ],
            [
             0.4444444444444444,
             "#bd3786"
            ],
            [
             0.5555555555555556,
             "#d8576b"
            ],
            [
             0.6666666666666666,
             "#ed7953"
            ],
            [
             0.7777777777777778,
             "#fb9f3a"
            ],
            [
             0.8888888888888888,
             "#fdca26"
            ],
            [
             1,
             "#f0f921"
            ]
           ]
          },
          "colorway": [
           "#636efa",
           "#EF553B",
           "#00cc96",
           "#ab63fa",
           "#FFA15A",
           "#19d3f3",
           "#FF6692",
           "#B6E880",
           "#FF97FF",
           "#FECB52"
          ],
          "font": {
           "color": "#2a3f5f"
          },
          "geo": {
           "bgcolor": "white",
           "lakecolor": "white",
           "landcolor": "#E5ECF6",
           "showlakes": true,
           "showland": true,
           "subunitcolor": "white"
          },
          "hoverlabel": {
           "align": "left"
          },
          "hovermode": "closest",
          "mapbox": {
           "style": "light"
          },
          "paper_bgcolor": "white",
          "plot_bgcolor": "#E5ECF6",
          "polar": {
           "angularaxis": {
            "gridcolor": "white",
            "linecolor": "white",
            "ticks": ""
           },
           "bgcolor": "#E5ECF6",
           "radialaxis": {
            "gridcolor": "white",
            "linecolor": "white",
            "ticks": ""
           }
          },
          "scene": {
           "xaxis": {
            "backgroundcolor": "#E5ECF6",
            "gridcolor": "white",
            "gridwidth": 2,
            "linecolor": "white",
            "showbackground": true,
            "ticks": "",
            "zerolinecolor": "white"
           },
           "yaxis": {
            "backgroundcolor": "#E5ECF6",
            "gridcolor": "white",
            "gridwidth": 2,
            "linecolor": "white",
            "showbackground": true,
            "ticks": "",
            "zerolinecolor": "white"
           },
           "zaxis": {
            "backgroundcolor": "#E5ECF6",
            "gridcolor": "white",
            "gridwidth": 2,
            "linecolor": "white",
            "showbackground": true,
            "ticks": "",
            "zerolinecolor": "white"
           }
          },
          "shapedefaults": {
           "line": {
            "color": "#2a3f5f"
           }
          },
          "ternary": {
           "aaxis": {
            "gridcolor": "white",
            "linecolor": "white",
            "ticks": ""
           },
           "baxis": {
            "gridcolor": "white",
            "linecolor": "white",
            "ticks": ""
           },
           "bgcolor": "#E5ECF6",
           "caxis": {
            "gridcolor": "white",
            "linecolor": "white",
            "ticks": ""
           }
          },
          "title": {
           "x": 0.05
          },
          "xaxis": {
           "automargin": true,
           "gridcolor": "white",
           "linecolor": "white",
           "ticks": "",
           "title": {
            "standoff": 15
           },
           "zerolinecolor": "white",
           "zerolinewidth": 2
          },
          "yaxis": {
           "automargin": true,
           "gridcolor": "white",
           "linecolor": "white",
           "ticks": "",
           "title": {
            "standoff": 15
           },
           "zerolinecolor": "white",
           "zerolinewidth": 2
          }
         }
        },
        "title": {
         "text": "Sector → Industry → Occupation: Job Growth Hierarchy"
        },
        "width": 800
       }
      }
     },
     "metadata": {},
     "output_type": "display_data"
    }
   ],
   "source": [
    "#| echo: false\n",
    "# Sunburst \n",
    "fig = px.sunburst(\n",
    "    df2_flat,\n",
    "    path=['llm_sector', 'industry_1', '2023_national_employment_matrix_title'],\n",
    "    values='employment_change_numeric_202333',\n",
    "    title='Sector → Industry → Occupation: Job Growth Hierarchy',\n",
    "    width=800,     # adjust width \n",
    "    height=600      # adjust \n",
    ")\n",
    "fig.show()"
   ]
  },
  {
   "cell_type": "markdown",
   "metadata": {},
   "source": [
    "A big-picture view of which sectors, industries, and occupations are driving job growth. At the center, we see broad sectors like Healthcare and Information Technology dominating the landscape. As we move outward, we can trace those sectors into key industries—like hospitals, outpatient care, or custom software development—and finally into the specific occupations fueling that growth. This layered view helps connect the dots between sector level trends and the actual jobs behind them, making it easier for El Paso to spot where local capacity might support fast-growing roles or where there’s room to grow into new industries."
   ]
  },
  {
   "cell_type": "markdown",
   "metadata": {},
   "source": [
    "Top 10 Industries by Compound Annual Growth Rate"
   ]
  },
  {
   "cell_type": "code",
   "execution_count": 75,
   "metadata": {},
   "outputs": [
    {
     "data": {
      "image/png": "[encoded data removed]",
      "text/plain": [
       "<Figure size 1000x600 with 1 Axes>"
      ]
     },
     "metadata": {},
     "output_type": "display_data"
    }
   ],
   "source": [
    "#| echo: false\n",
    "\n",
    "# Top 10 industries by CAGR\n",
    "top_cagr_df6 = df6.sort_values(by='compound_annual_rate_of_change_2023–33', ascending=False).head(10)\n",
    "\n",
    "# Line chart\n",
    "plt.figure(figsize=(10, 6))\n",
    "plt.plot(top_cagr_df6['compound_annual_rate_of_change_2023–33'], top_cagr_df6['industry_description'], marker='o', color='darkblue')\n",
    "plt.title('Top 10 Industries by CAGR (2023–2033)', fontsize=14)\n",
    "plt.xlabel('Compound Annual Growth Rate (%)')\n",
    "plt.ylabel('Industry')\n",
    "plt.grid(True, axis='x')\n",
    "plt.tight_layout()\n",
    "plt.show()"
   ]
  },
  {
   "cell_type": "markdown",
   "metadata": {},
   "source": [
    "For industries expected to grow the fastest over the next decade based on their compound annual growth rates. The steep curve toward the bottom right signals a few standout sectors with strong momentum, while others show more steady, consistent growth. The presence of both service-oriented and tech-driven industries suggests that economic expansion isn’t limited to one area—it’s spread across a range of fields. For regions like El Paso, understanding which of these industries align with local assets could help shape where to focus future development efforts."
   ]
  },
  {
   "cell_type": "markdown",
   "metadata": {},
   "source": [
    "Conclusion "
   ]
  },
  {
   "cell_type": "markdown",
   "metadata": {},
   "source": [
    "Together, these insights paint a clearer picture of where the U.S. economy is headed—and where local opportunities may lie. By combining occupation growth, industry expansion, and wage trends, this analysis offers a data-driven starting point for identifying markets with real potential. For El Paso, the goal isn’t to chase every trend, but to focus on the ones that align with the city’s strengths, infrastructure, and workforce. This groundwork sets the stage for more targeted planning, helping decision-makers prioritize sectors that are both sustainable and strategic for long-term growth."
   ]
  },
  {
   "cell_type": "markdown",
   "metadata": {},
   "source": [
    "Next Steps"
   ]
  },
  {
   "cell_type": "markdown",
   "metadata": {},
   "source": [
    "The next step is to take these national insights and apply them locally by examining how they align with El Paso’s existing economic base and workforce capabilities. This means identifying which high-growth occupations and industries have a natural fit with the city’s current strengths—whether that’s in healthcare, logistics, advanced manufacturing, or cross-border trade. From there, the focus can shift toward closing gaps through targeted workforce development, expanding training programs, and exploring incentives that attract or grow businesses in those priority areas. By grounding future planning in both local capacity and national momentum, El Paso can position itself to compete in emerging markets while building a more resilient, future-ready economy."
   ]
  },
  {
   "cell_type": "markdown",
   "metadata": {},
   "source": []
  },
  {
   "cell_type": "code",
   "execution_count": 1,
   "metadata": {},
   "outputs": [],
   "source": [
    "#| output: false\n",
    "#| echo: false\n",
    "\n",
    "#df2_flat"
   ]
  },
  {
   "cell_type": "code",
   "execution_count": 78,
   "metadata": {},
   "outputs": [],
   "source": [
    "#| output: false\n",
    "#| echo: false\n",
    "\n",
    "# df2_flat.to_excel(\"df2_flat_final.xlsx\", index=False)\n",
    "# df3_flat.to_excel(\"df3_flat_final.xlsx\", index=False)\n",
    "# df6.to_excel(\"df6_final.xlsx\", index=False)\n",
    "# df7.to_excel(\"df7_final.xlsx\", index=False)"
   ]
  }
 ],
 "metadata": {
  "kernelspec": {
   "display_name": "base",
   "language": "python",
   "name": "python3"
  },
  "language_info": {
   "codemirror_mode": {
    "name": "ipython",
    "version": 3
   },
   "file_extension": ".py",
   "mimetype": "text/x-python",
   "name": "python",
   "nbconvert_exporter": "python",
   "pygments_lexer": "ipython3",
   "version": "3.11.4"
  }
 },
 "nbformat": 4,
 "nbformat_minor": 2
}
